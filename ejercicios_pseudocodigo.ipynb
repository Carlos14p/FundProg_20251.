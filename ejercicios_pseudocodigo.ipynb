{
  "nbformat": 4,
  "nbformat_minor": 0,
  "metadata": {
    "colab": {
      "provenance": [],
      "authorship_tag": "ABX9TyOl7DIuj9FzdJFkXtVKoNyL",
      "include_colab_link": true
    },
    "kernelspec": {
      "name": "python3",
      "display_name": "Python 3"
    },
    "language_info": {
      "name": "python"
    }
  },
  "cells": [
    {
      "cell_type": "markdown",
      "metadata": {
        "id": "view-in-github",
        "colab_type": "text"
      },
      "source": [
        "<a href=\"https://colab.research.google.com/github/Seb4s11/FundProg_202510/blob/main/ejercicios_pseudocodigo.ipynb\" target=\"_parent\"><img src=\"https://colab.research.google.com/assets/colab-badge.svg\" alt=\"Open In Colab\"/></a>"
      ]
    },
    {
      "cell_type": "markdown",
      "source": [
        "# Ejercicos Pseudocódigo\n",
        "<br> **Nombre:** Sebastián Llorente Funieles\n",
        "<br> **ID:** 000574916\n",
        "<br> **Email:** sebastian.llorente@upb.edu.co\n"
      ],
      "metadata": {
        "id": "Q3wSGk1SyCuM"
      }
    },
    {
      "cell_type": "code",
      "source": [],
      "metadata": {
        "id": "fDBcNqqUeNBz"
      },
      "execution_count": null,
      "outputs": []
    },
    {
      "cell_type": "markdown",
      "source": [
        "#Primer Ejercicio\n",
        "\n",
        "**Información personal**\n",
        "\n",
        "<br> Diseña un programa que muestre la siguiente información:\n",
        "• Tu número de teléfono\n",
        "• Tu especialización universitaria\n",
        "\n",
        "*   Tu noombre\n",
        "*   Tu dirección, con ciudad, estado y código postal\n",
        "*   Tu número de teléfono\n",
        "*   Tu especialización universitaria\n",
        "\n",
        "\n",
        "\n",
        "\n",
        "```\n",
        "start\n",
        "\n",
        "  Declare string name\n",
        "  Declare string adress\n",
        "  Declare int number\n",
        "  Declare string specialization\n",
        "  \n",
        "  Display \"Ingresa tu nombre\"\n",
        "  Input name\n",
        "\n",
        "  Display \"Ingresa tu dirección, ciudad, estado, y código postal separado por comas\"\n",
        "  Input adress\n",
        "\n",
        "  Display \"Ingresa tu número de teléfono\"\n",
        "  Input number\n",
        "\n",
        "  Display \"Ingresa tu especialización universitaria\"\n",
        "  Input specialization\n",
        "\n",
        "  \n",
        "  Display \"Tu información personal es: Te llamas \", name, \"tu dirección es \", adress, \"tu especializacón universitaria es\", specialization\n",
        "\n",
        "end\n",
        "```"
      ],
      "metadata": {
        "id": "f7sSYB3x5AvM"
      }
    },
    {
      "cell_type": "code",
      "source": [
        "name = input(\"Ingresa tu nombre: \")\n",
        "adress = input(\"ngresa tu dirección, ciudad, estado, y código postal separado por comas: \")\n",
        "number = input(\"Ingresa tu número de teléfono: \")\n",
        "specialization = input(\"Ingresa tu especialización universitaria: \")\n",
        "\n",
        "print(\"Tu información personal es: Te llamas \", name, \",tu número de teléfono es \", number, \",tu dirección es \", adress, \", tu especialización universitaria es\", specialization)"
      ],
      "metadata": {
        "colab": {
          "base_uri": "https://localhost:8080/"
        },
        "id": "IheWPCzT8OfQ",
        "outputId": "7f0598df-b9f0-4fbc-f7e0-e2cd5990ca48"
      },
      "execution_count": null,
      "outputs": [
        {
          "output_type": "stream",
          "name": "stdout",
          "text": [
            "Ingresa tu nombre: Sebastián\n",
            "ngresa tu dirección, ciudad, estado, y código postal separado por comas: Cra 17 A #11, 91, Montería, Córdoba, 230003\n",
            "Ingresa tu número de teléfono: 3013159826\n",
            "Ingresa tu especialización universitaria: Ing Electrónico\n",
            "Tu información personal es: Te llamas  Sebastián ,tu número de teléfono es  3013159826 ,tu dirección es  Cra 17 A #11, 91, Montería, Córdoba, 230003 , tu especialización universitaria es Ing Electrónico\n"
          ]
        }
      ]
    },
    {
      "cell_type": "markdown",
      "source": [
        "#Segundo ejercicio\n",
        "**Predicción de ventas**\n",
        "\n",
        "<br> Una empresa ha determinado que su beneficio anual es típicamente el 23% de las ventas totales. Diseña un programa que pida al usuario ingresar la cantidad proyectada de ventas totales, y luego muestre el beneficio que se obtendrá de esa cantidad.\n",
        "\n",
        "<br>Pista: Usa el valor 0.23 para representar el 23%.\n",
        "```\n",
        "start\n",
        "  Declare float ventas\n",
        "  Declare real beneficio = 0.23\n",
        "  Declare real total\n",
        "\n",
        "  Display \"Ingresa la cantidad proyectada de ventas\"\n",
        "  Input ventas\n",
        "\n",
        "  Set total = ventas * beneficio\n",
        "\n",
        "  Display \"El beneficio que obtendrá será de:\", total\n",
        "\n",
        "end\n",
        "```"
      ],
      "metadata": {
        "id": "5m_zXbLD__Pm"
      }
    },
    {
      "cell_type": "code",
      "source": [
        "ventas = float(input(\"Ingresa la cantidad proyectada de ventas: \"))\n",
        "beneficio = 0.23\n",
        "total = ventas * beneficio\n",
        "\n",
        "print(\"El beneficio que obtendrá será de:\", total)"
      ],
      "metadata": {
        "colab": {
          "base_uri": "https://localhost:8080/"
        },
        "id": "-TPBxo0QATFS",
        "outputId": "7b1cd365-a0ee-40dd-bf5a-c0550385a80e"
      },
      "execution_count": null,
      "outputs": [
        {
          "output_type": "stream",
          "name": "stdout",
          "text": [
            "Ingresa la cantidad proyectada de ventas: 5\n",
            "El beneficio que obtendrá será de: 1.1500000000000001\n"
          ]
        }
      ]
    },
    {
      "cell_type": "markdown",
      "source": [
        "#Tercer Ejercicio\n",
        "\n",
        "**Cálculo de Terreno**\n",
        "\n",
        "<br> Un acre de terreno es equivalente a 43,560 pies cuadrados. Diseña un programa que pida al usuario ingresar la cantidad total de pies cuadrados en un terreno y calcule el número de acres\n",
        "en el terreno.\n",
        "\n",
        "<br >Pista: Divide la cantidad ingresada por 43,560 para obtener el número de acres.\n",
        "```\n",
        "Start\n",
        "  Declare float pies\n",
        "  Declare float acres = pies / 43560\n",
        "\n",
        "  Display \"Ingresa el valor de pies cuadrados que serán pasados a acres\"\n",
        "  Input pies\n",
        "\n",
        "  Display \"Son\", acres, \"acres\"\n",
        "```"
      ],
      "metadata": {
        "id": "wGdQN46qSrio"
      }
    },
    {
      "cell_type": "code",
      "source": [
        "pies = float(input(\"Ingresa el valor de pies cuadrados que serán pasados a acres: \"))\n",
        "acres = pies / 43560\n",
        "\n",
        "print(\"Son\", acres, \"acres\")"
      ],
      "metadata": {
        "colab": {
          "base_uri": "https://localhost:8080/"
        },
        "id": "6z3Lwv8kVfxD",
        "outputId": "b49115e6-ee06-4cce-e6cb-a2ce865331d0"
      },
      "execution_count": null,
      "outputs": [
        {
          "output_type": "stream",
          "name": "stdout",
          "text": [
            "Ingresa el valor de pies cuadrados que serán pasados a acres: 5\n",
            "Son 0.0001147842056932966 acres\n"
          ]
        }
      ]
    },
    {
      "cell_type": "markdown",
      "source": [
        "#Cuarto Ejercicio\n",
        "**Compra total**\n",
        "\n",
        "<br> Un cliente en una tienda está comprando cinco artículos. Diseña un programa que pida el precio de cada artículo, y luego muestre el subtotal de la venta, la cantidad del impuesto de venta y el total. Asume que el impuesto de venta es del 6%.\n",
        "```\n",
        "Start\n",
        "  Declare float articulo_1\n",
        "  Declare float articulo_2\n",
        "  Declare float articulo_3\n",
        "  Declare float articulo_4\n",
        "  Declare float articulo_5\n",
        "  Declare float suma = articulo_1 + articulo_2 + articulo_3 + articulo_4 + articulo_5\n",
        "  Declare float impuesto = suma * 0.06\n",
        "  Declare float suma_con_impuesto = suma + impuesto\n",
        "  \n",
        "  Display \"Ingresa el precio del artículo 1\"\n",
        "  Input articulo_1\n",
        "  \n",
        "  Display \"Ingresa el precio del artículo 2\"\n",
        "  Input articulo_2\n",
        "  \n",
        "  Display \"Ingresa el precio del artículo 3\"\n",
        "  Input articulo_3\n",
        "  \n",
        "  Display \"Ingresa el precio del artículo 4\"\n",
        "  Input articulo_4\n",
        "  \n",
        "  Display \"Ingresa el precio del artículo 5\"\n",
        "  Input articulo_5\n",
        "  \n",
        "  Display \"El precio total de la venta con un impuesto de\", impuesto, \"es:\", suma_con_impuesto\n",
        "\n",
        "End\n",
        "```"
      ],
      "metadata": {
        "id": "GwtBSli1WUD_"
      }
    },
    {
      "cell_type": "code",
      "source": [
        "articulo_1 = float(input(\"Ingresa el precio del artículo 1: \"))\n",
        "articulo_2 = float(input(\"Ingresa el precio del artículo 2: \"))\n",
        "articulo_3 = float(input(\"Ingresa el precio del artículo 3: \"))\n",
        "articulo_4 = float(input(\"Ingresa el precio del artículo 4: \"))\n",
        "articulo_5 = float(input(\"Ingresa el precio del artículo 5: \"))\n",
        "suma = articulo_1 + articulo_2 + articulo_3 + articulo_4 + articulo_5\n",
        "impuesto = suma * 0.06\n",
        "suma_con_impuesto = suma + impuesto\n",
        "\n",
        "print(\"El precio total de la venta con un impuesto de\", impuesto, \"es:\", suma_con_impuesto)"
      ],
      "metadata": {
        "colab": {
          "base_uri": "https://localhost:8080/"
        },
        "id": "SNBZ6VCCYQC-",
        "outputId": "020bb5ba-9f50-4d29-aee3-938cf70c2b3b"
      },
      "execution_count": 23,
      "outputs": [
        {
          "output_type": "stream",
          "name": "stdout",
          "text": [
            "Ingresa el precio del artículo 1: 5\n",
            "Ingresa el precio del artículo 2: 5\n",
            "Ingresa el precio del artículo 3: 5\n",
            "Ingresa el precio del artículo 4: 5\n",
            "Ingresa el precio del artículo 5: 5\n",
            "El precio total de la venta con un impuesto de 1.5 es: 26.5\n"
          ]
        }
      ]
    },
    {
      "cell_type": "markdown",
      "source": [
        "#Quinto Ejercicio\n",
        "**Distancia recorrida**\n",
        "\n",
        "<br>Asumiendo que no hay accidentes ni retrasos, la distancia que un automóvil recorre por la autopista se puede calcular con la siguiente fórmula:\n",
        "<br>Distancia = Velocidad × Tiempo\n",
        "Un automóvil viaja a 60 millas por hora. <br>Diseña un programa que muestre lo siguiente:\n",
        "\n",
        "*   La distancia que el automóvil recorrerá en 5 horas\n",
        "*   La distancia que el automóvil recorrerá en 8 horas\n",
        "*   La distancia que el automóvil recorrerá en 12 horas\n",
        "```\n",
        "Start\n",
        "  Declare const velocidad = 60\n",
        "  Declare int distancia_5 = velocidad * 5\n",
        "  Declare int distancia_8 = velocidad * 5\n",
        "  Declare int distancia_12 = velocidad * 12\n",
        "\n",
        "  Display \"El automóvil que viaja a 60 millas por hora en 5 horas recorrerá \", distancia_5, \"millas, en 8 horas recorrerá \", distancia_8, \"millas, y en 12 horas recorrerá \", distancia_12, \"millas.\"\n",
        "\n",
        "End\n",
        "```"
      ],
      "metadata": {
        "id": "yPy3S-_eZ3F_"
      }
    },
    {
      "cell_type": "code",
      "source": [
        "velocidad = 60\n",
        "distancia_5 = velocidad * 5\n",
        "distancia_8 = velocidad * 8\n",
        "distancia_12 = velocidad * 12\n",
        "\n",
        "print(\"El automóvil que viaja a 60 millas por hora en 5 horas recorrerá \", distancia_5, \"millas, en 8 horas recorrerá \", distancia_8, \"millas, y en 12 horas recorrerá \", distancia_12, \"millas.\")"
      ],
      "metadata": {
        "colab": {
          "base_uri": "https://localhost:8080/"
        },
        "id": "827v-ruQcIbW",
        "outputId": "91b74e76-dd5b-47dd-d5ab-f535bf0d9f23"
      },
      "execution_count": null,
      "outputs": [
        {
          "output_type": "stream",
          "name": "stdout",
          "text": [
            "El automóvil que viaja a 60 millas por hora en 5 horas recorrerá  300 millas, en 8 horas recorrerá  480 millas, y en 12 horas recorrerá  720 millas.\n"
          ]
        }
      ]
    },
    {
      "cell_type": "markdown",
      "source": [
        "#Sexto ejercicio\n",
        "**Impuesto de venta**\n",
        "\n",
        "<br>Diseña un programa que pida al usuario ingresar la cantidad de una compra. El programa debe luego calcular el impuesto de venta estatal y el impuesto de venta del condado. Asume que el impuesto de venta estatal es del 4% y el impuesto de venta del condado es del 2%. El programa debe mostrar la cantidad de la compra, el impuesto de venta estatal, el impuesto de venta del condado, el impuesto de venta total y el total de la venta (que es la suma de la\n",
        "cantidad de la compra más el impuesto de venta total).\n",
        "\n",
        "<br>Pista: Usa el valor 0.02 para representar el 2% y 0.04 para representar el 4%.\n",
        "```\n",
        "start\n",
        "\n",
        "  Declare int compra\n",
        "  Declare float imp_est = 0.04 * compra\n",
        "  Declare float imp_cond = 0.02 * compra\n",
        "  Declare float venta_total = compra+ imp_est + imp_cond\n",
        "\n",
        "  Display \"Ingrese la cantidad monetaria de la compra\"\n",
        "  Input compra\n",
        "\n",
        "  Display \"Su compra es de \", compra, \",el impuesto de venta estatal es \", imp_est, \"el impuesto de venta del condado es\", imp_cond, \", y el total de su compra es:\", venta_total\n",
        "\n",
        "end\n",
        "```"
      ],
      "metadata": {
        "id": "trdXUD88eFhU"
      }
    },
    {
      "cell_type": "code",
      "source": [
        "compra = int(input(\"Ingrese la cantidad monetaria de la compra: \"))\n",
        "imp_est = 0.04 * compra\n",
        "imp_cond = 0.02 * compra\n",
        "venta_total = compra+ imp_est + imp_cond\n",
        "\n",
        "print(\"Su compra es de \", compra, \",el impuesto de venta estatal es \", imp_est, \"el impuesto de venta del condado es\", imp_cond, \", y el total de su compra es:\", venta_total)"
      ],
      "metadata": {
        "colab": {
          "base_uri": "https://localhost:8080/"
        },
        "id": "vYk5QnLCgc0r",
        "outputId": "fb75de86-6591-4be7-c728-91f62466914c"
      },
      "execution_count": null,
      "outputs": [
        {
          "output_type": "stream",
          "name": "stdout",
          "text": [
            "Ingrese la cantidad monetaria de la compra: 5000\n",
            "Su compra es de  5000 ,el impuesto de venta estatal es  200.0 el impuesto de venta del condado es 100.0 , y el total de su compra es: 5300.0\n"
          ]
        }
      ]
    },
    {
      "cell_type": "markdown",
      "source": [
        "#Séptimo Ejercicio\n",
        "**Millas por galón**\n",
        "\n",
        "<br>Las millas por galón (MPG) de un automóvil se pueden calcular con la siguiente fórmula:\n",
        "\n",
        "<br> MPG = Millas recorridas / Galones de gasolina usados\n",
        "\n",
        "<br>Diseña un programa que pida al usuario el número de millas recorridas y los galones de gasolina usados. Debe calcular las millas por galón del automóvil y mostrar el resultado en\n",
        "pantalla.\n",
        "```\n",
        "Start\n",
        "\n",
        "  Declare float millas\n",
        "  Declare float galon\n",
        "  Declare float mpg = millas / galon\n",
        "\n",
        "  Display \"Ingrese las millas recorridas\"\n",
        "  Input millas\n",
        "\n",
        "  Display \"Ingrese el número de galones usados\"\n",
        "  Input galon\n",
        "\n",
        "  Display \"Ha usado \", mpg, \"millas por galon\"\n",
        "\n",
        "End\n",
        "```"
      ],
      "metadata": {
        "id": "6SneaFeQkIJT"
      }
    },
    {
      "cell_type": "code",
      "source": [
        "millas = float(input(\"Ingrese las millas recorridas: \"))\n",
        "galon = float(input(\"Ingrese el número de galones usados: \"))\n",
        "mpg = millas / galon\n",
        "\n",
        "print(\"Ha usado \", mpg, \"millas por galon\")"
      ],
      "metadata": {
        "colab": {
          "base_uri": "https://localhost:8080/"
        },
        "id": "Cr7M5J1RlSqk",
        "outputId": "ad6d4a2f-dfce-4bd0-d5b1-edc984c519a2"
      },
      "execution_count": null,
      "outputs": [
        {
          "output_type": "stream",
          "name": "stdout",
          "text": [
            "Ingrese las millas recorridas: 5\n",
            "Ingrese el número de galones usados: 5\n",
            "Ha usado  1.0 millas por galon\n"
          ]
        }
      ]
    },
    {
      "cell_type": "markdown",
      "source": [
        "#Octavo Ejercicio\n",
        "**Propina, impuesto y total**\n",
        "\n",
        "<br> Diseña un programa que calcule la cantidad total de una comida comprada en un restaurante. El programa debe pedir al usuario que ingrese el costo de la comida, y luego calcular la cantidad de una propina del 15% y un impuesto de venta del 7%. Muestra cada una de estas\n",
        "cantidades y el total.\n",
        "```\n",
        "start\n",
        "Declare float comida\n",
        "Declare float propina = comida * 0.15\n",
        "Declare float imp_vent = comida * 0.07\n",
        "Declare float total = comida + propina + imp_vent\n",
        "\n",
        "Display \"Ingrese el valor monetario de la comida comprada\"\n",
        "Input comida\n",
        "\n",
        "Display \"Para una comida de valor \", comida, \", más una propina de \", propina, \", más el impuesto de venta de \", imp_vent, \", da un total de: \", total\n",
        "\n",
        "end\n",
        "```"
      ],
      "metadata": {
        "id": "eaksFXVCl7Ux"
      }
    },
    {
      "cell_type": "code",
      "source": [
        "comida = float(input(\"Ingrese el valor monetario de la comida comprada: \"))\n",
        "propina = comida * 0.15\n",
        "imp_vent = comida * 0.07\n",
        "total = comida + propina + imp_vent\n",
        "\n",
        "print(\"Para una comida de valor \", comida, \", más una propina de \", propina, \", más el impuesto de venta de \", imp_vent, \", da un total de: \", total)"
      ],
      "metadata": {
        "colab": {
          "base_uri": "https://localhost:8080/"
        },
        "id": "vWtvrl5GnbHR",
        "outputId": "d6510b99-2121-481f-e66d-7a0e7a43dc97"
      },
      "execution_count": null,
      "outputs": [
        {
          "output_type": "stream",
          "name": "stdout",
          "text": [
            "Ingrese el valor monetario de la comida comprada: 5000\n",
            "Para una comida de valor  5000 , más una propina de  750.0 , más el impuesto de venta de  350.00000000000006 , da un total de:  6100.0\n"
          ]
        }
      ]
    },
    {
      "cell_type": "markdown",
      "source": [
        "#Noveno Ejercicio\n",
        "**Convertidor de temeratura de celsius a fahrenheit**\n",
        "\n",
        "<br> Diseña un programa que convierta temperaturas de Celsius a Fahrenheit. La fórmula es la siguiente:\n",
        "\n",
        "<br> F = (9/5) * C + 32\n",
        "\n",
        "<br> El programa debe pedir al usuario que ingrese una temperatura en Celsius, y luego mostrar la temperatura convertida a Fahrenheit.\n",
        "```\n",
        "Start\n",
        "  Declare float celsius\n",
        "  Declare real fahrenheit = (9/5) * celsius + 32\n",
        "\n",
        "  Display \"Ingrese la temperatura en celsius\"\n",
        "  Input celsius\n",
        "\n",
        "  Display celsius, \"grados celsius son \", fahrenheit \"grados fahrenheit\"\n",
        "End\n",
        "```"
      ],
      "metadata": {
        "id": "rCVzVI3_oEwW"
      }
    },
    {
      "cell_type": "code",
      "source": [
        "celsius = float(input(\"Ingrese la temperatura en celsius: \"))\n",
        "fahrenheit = (9/5) * celsius + 32\n",
        "\n",
        "print(celsius, \"grados celsius son \", fahrenheit, \"grados fahrenheit\")"
      ],
      "metadata": {
        "colab": {
          "base_uri": "https://localhost:8080/"
        },
        "id": "VYc8CQRopBQD",
        "outputId": "234d5ac6-8ea9-4e44-98f7-227e87f4acfd"
      },
      "execution_count": null,
      "outputs": [
        {
          "output_type": "stream",
          "name": "stdout",
          "text": [
            "Ingrese la temperatura en celsius: 30\n",
            "30 grados celsius son  86.0 grados fahrenheit\n"
          ]
        }
      ]
    },
    {
      "cell_type": "markdown",
      "source": [
        "#Decimo ejercicio\n",
        "**Programa de transacciones de acciones**\n",
        "\n",
        "<br> El mes pasado Joe compró algunas acciones en Acme Software, Inc. Aquí están los detalles de la compra:\n",
        "\n",
        "\n",
        "*   El número de acciones que Joe compró fue de 1,000.\n",
        "*   Cuando Joe compró las acciones, pagó $32.87 por acción.\n",
        "*   Joe pagó a su corredor una comisión que ascendió al 2% de la cantidad que pagó por las acciones.  \n",
        "<br> Dos semanas después Joe vendió las acciones. Aquí están los detalles de la venta:\n",
        "\n",
        "*   El número de acciones que Joe vendió fue de 1,000.\n",
        "*   Vendió las acciones por $33.92 por acción.\n",
        "* Pagó a su corredor otra comisión que ascendió al 2% de la cantidad que recibió por las\n",
        "acciones.  \n",
        "<br> Diseña un programa que muestre la siguiente información:\n",
        "*  La cantidad de dinero que Joe pagó por las acciones.\n",
        "* La cantidad de la comisión que Joe pagó a su corredor cuando compró las acciones.\n",
        "* La cantidad por la que Joe vendió las acciones.\n",
        "*  La cantidad de la comisión que Joe pagó a su corredor cuando vendió las acciones.\n",
        "\n",
        "<br>Muestra la cantidad de ganancia o pérdida después de que Joe vendió las acciones y pagó a su\n",
        "corredor.\n",
        "\n",
        "```\n",
        "Start\n",
        "  Declare float pago_acciones = 1000 * 32.87\n",
        "  Declare float comision_corredor = pago_acciones * 0.02\n",
        "  Declare float venta_acciones = 1000 * 33.92\n",
        "  Declare float comision_segunda = venta_acciones * 0.02\n",
        "  Declare float plus_valia = venta_acciones - comision_segunda\n",
        "\n",
        "  Display \"Joe pagó \", pago_acciones, \"por las acciones. \", \"Cuando compró las acciones le pagó a su corredor una comisión de \", comision_corredor, \"y luego cuando vendió sus acciones le pagó \", comision_segunda, \". Vendió sus acciones por \", venta_acciones, \"Y de esta inversión le quedaron \", plus_valia\n",
        "\n",
        "End\n",
        "```"
      ],
      "metadata": {
        "id": "57bJEUvvpXRX"
      }
    },
    {
      "cell_type": "code",
      "source": [
        "pago_acciones = 1000 * 32.87\n",
        "comision_corredor = pago_acciones * 0.02\n",
        "venta_acciones = 1000 * 33.92\n",
        "comision_segunda = venta_acciones * 0.02\n",
        "plus_valia = venta_acciones - comision_segunda\n",
        "ganancia = plus_valia - pago_acciones\n",
        "\n",
        "display(\"Joe pagó\", pago_acciones, \"por las acciones. Cuando compró las acciones le pagó a su corredor una comisión de \", comision_corredor, \"y luego cuando vendió sus acciones le pagó \", comision_segunda, \". Vendió sus acciones por \", venta_acciones, \". Luego del pago al corredor le quedaron \", plus_valia, \"y de su inversión incial salió en una ganancia de \", ganancia)"
      ],
      "metadata": {
        "colab": {
          "base_uri": "https://localhost:8080/",
          "height": 250
        },
        "id": "FA6kWRX7shZM",
        "outputId": "9c787ecd-84a4-4ede-f788-1769189ad829"
      },
      "execution_count": null,
      "outputs": [
        {
          "output_type": "display_data",
          "data": {
            "text/plain": [
              "'Joe pagó'"
            ],
            "application/vnd.google.colaboratory.intrinsic+json": {
              "type": "string"
            }
          },
          "metadata": {}
        },
        {
          "output_type": "display_data",
          "data": {
            "text/plain": [
              "32870.0"
            ]
          },
          "metadata": {}
        },
        {
          "output_type": "display_data",
          "data": {
            "text/plain": [
              "'por las acciones. Cuando compró las acciones le pagó a su corredor una comisión de '"
            ],
            "application/vnd.google.colaboratory.intrinsic+json": {
              "type": "string"
            }
          },
          "metadata": {}
        },
        {
          "output_type": "display_data",
          "data": {
            "text/plain": [
              "657.4"
            ]
          },
          "metadata": {}
        },
        {
          "output_type": "display_data",
          "data": {
            "text/plain": [
              "'y luego cuando vendió sus acciones le pagó '"
            ],
            "application/vnd.google.colaboratory.intrinsic+json": {
              "type": "string"
            }
          },
          "metadata": {}
        },
        {
          "output_type": "display_data",
          "data": {
            "text/plain": [
              "678.4"
            ]
          },
          "metadata": {}
        },
        {
          "output_type": "display_data",
          "data": {
            "text/plain": [
              "'. Vendió sus acciones por '"
            ],
            "application/vnd.google.colaboratory.intrinsic+json": {
              "type": "string"
            }
          },
          "metadata": {}
        },
        {
          "output_type": "display_data",
          "data": {
            "text/plain": [
              "33920.0"
            ]
          },
          "metadata": {}
        },
        {
          "output_type": "display_data",
          "data": {
            "text/plain": [
              "'. Luego del pago al corredor le quedaron '"
            ],
            "application/vnd.google.colaboratory.intrinsic+json": {
              "type": "string"
            }
          },
          "metadata": {}
        },
        {
          "output_type": "display_data",
          "data": {
            "text/plain": [
              "33241.6"
            ]
          },
          "metadata": {}
        },
        {
          "output_type": "display_data",
          "data": {
            "text/plain": [
              "'y de su inversión incial salió en una ganancia de '"
            ],
            "application/vnd.google.colaboratory.intrinsic+json": {
              "type": "string"
            }
          },
          "metadata": {}
        },
        {
          "output_type": "display_data",
          "data": {
            "text/plain": [
              "371.59999999999854"
            ]
          },
          "metadata": {}
        }
      ]
    },
    {
      "cell_type": "markdown",
      "source": [
        "#Decimoprimer ejercicio\n",
        "**Cálculo de la ultilidad del negocio de venta de viviendas remodeladas**\n",
        "\n",
        "<br> Diseña un programa que calcule la utilidad (o pérdidas) de un negocio de venta de viviendas remodeladas a partir del precio de compra de la vivienda, los costos de remodelación, el precio de venta y un porcentaje de comisión sobre la venta.\n",
        "```\n",
        "Start\n",
        "  Declare float precio_compra\n",
        "  Declare float remodelacion\n",
        "  Declare float precio_venta\n",
        "  Declare float porcentaje_comision\n",
        "  Declare float utilidad = (precio_venta - precio_compra - remodelacion) + ((porcentaje_comision / 100) * precio_venta)\n",
        "  \n",
        "  Display \"Ingrese el precio de comprade la vivienda\"\n",
        "  Input precio_compra\n",
        "\n",
        "  Display \"Ingrese el costo de la remodelación\"\n",
        "  Input remodelacion\n",
        "\n",
        "  Display \"Ingrese el precio de venta de la vivienda\"\n",
        "  Input precio_venta\n",
        "\n",
        "  Display \"Ingrese el porcentaje de comsión\"\n",
        "  Input porcentaje_comision\n",
        "\n",
        "  Display \"La utilidad fue de \", utilidad\n",
        "End\n",
        "```"
      ],
      "metadata": {
        "id": "wSGbJdQhvDLA"
      }
    },
    {
      "cell_type": "code",
      "source": [
        "precio_compra = float(input(\"Ingrese el precio de compra de la vivienda: \"))\n",
        "remodelacion = float(input(\"Ingrese el costo de la remodelación: \"))\n",
        "precio_venta = float(input(\"Ingrese el precio de venta de la vivienda: \"))\n",
        "porcentaje_comision = float(input(\"Ingrese el porcentaje de comsión: \"))\n",
        "utilidad = (precio_venta - precio_compra - remodelacion) + ((porcentaje_comision / 100) * precio_venta)\n",
        "\n",
        "print(\"La utilidad fue de \", utilidad)"
      ],
      "metadata": {
        "colab": {
          "base_uri": "https://localhost:8080/"
        },
        "id": "dkqEsgDPx9tX",
        "outputId": "728446b3-a98f-4424-e32b-d7220be69e7a"
      },
      "execution_count": null,
      "outputs": [
        {
          "output_type": "stream",
          "name": "stdout",
          "text": [
            "Ingrese el precio de compra de la vivienda: 5000000\n",
            "Ingrese el costo de la remodelación: 1000000\n",
            "Ingrese el precio de venta de la vivienda: 8000000\n",
            "Ingrese el porcentaje de comsión: 5\n",
            "La utilidad fue de  2400000.0\n"
          ]
        }
      ]
    },
    {
      "cell_type": "markdown",
      "source": [
        "#Decimosegundo Ejercicio\n",
        "**Área del círculo**\n",
        "\n",
        "<br> Diseñe un programa que calcule el área de un círculo a partir del radio ingresado por el usuario.\n",
        "```\n",
        "Start\n",
        "\n",
        "  Declare float radio\n",
        "  Declare float area_circulo = math.pi * (radio**2)\n",
        "\n",
        "  Display \"Ingresa el radio del círculo\"\n",
        "  Input radio\n",
        "\n",
        "  Display \"El área del círculo es: \", area_circulo\n",
        "\n",
        "End\n",
        "```"
      ],
      "metadata": {
        "id": "FRm1xo_OFWKu"
      }
    },
    {
      "cell_type": "code",
      "source": [
        "import math\n",
        "\n",
        "radio = float(input(\"Ingresa el radio del círculo: \"))\n",
        "area_circulo = math.pi * radio**2\n",
        "\n",
        "print(\"El área del círculo es: \", area_circulo)"
      ],
      "metadata": {
        "id": "a7Y70HcaGY-c",
        "outputId": "ea2466f3-a93c-4fbb-da23-a034e2b1625a",
        "colab": {
          "base_uri": "https://localhost:8080/"
        }
      },
      "execution_count": null,
      "outputs": [
        {
          "output_type": "stream",
          "name": "stdout",
          "text": [
            "Ingresa el radio del círculo: 2\n",
            "El área del círculo es:  12.566370614359172\n"
          ]
        }
      ]
    },
    {
      "cell_type": "markdown",
      "source": [
        "#Decimotercer Ejercicio\n",
        "**Muffins**\n",
        "\n",
        "<br> Diseñe un programa que calcule las cantidades necesarias para producir un número de muffins solicitado por el usuario si para producir 10 unidades se necesita: 240 ml de leche, 280 g de harina, 30 g de levadura, 2.5 g de sal, 100 g de azúcar, 2 huevos y 15 g de mantequilla.\n",
        "```\n",
        "Start\n",
        "  Declare int numero_muffins >= 5\n",
        "  Declare int leche = 120 * >numero_muffins\n",
        "  Declare int harina = 140 * numero_muffins\n",
        "  Declare int levadura = 15 * numero_muffins\n",
        "  Declare float sal = 1.25 * numero_muffins\n",
        "  Declare int azucar = 50 * numero_muffins\n",
        "  Declare float huevo = 1 * numero_muffins\n",
        "  Declare float mantequilla = 7.5 * numero_muffins\n",
        "\n",
        "  Display \"Ingresa el número de muffins que quieres hacer\"\n",
        "  Input numero_muffins\n",
        "\n",
        "  Display \"Necesitarás \", leche, \"ml de leche, \", harina, \"gr de harina, \", levadura, \"gr de levadura, \", sal, \"gr de sal, \", azucar, \"gr de azucar, \", huevos, \"huevos, y\", mantequilla, \"gr de mantequilla.\"\n",
        "\n",
        "End\n",
        "```"
      ],
      "metadata": {
        "id": "CyajGGRZG9Pg"
      }
    },
    {
      "cell_type": "code",
      "source": [
        "numero_muffins = int(input(\"Ingresa el número de muffins que quieres hacer, tienen que ser multiplos de 5: \"))\n",
        "leche = 24 * numero_muffins\n",
        "harina = 28 * numero_muffins\n",
        "levadura = 3 * numero_muffins\n",
        "sal = 0.25 * numero_muffins\n",
        "azucar = 10 * numero_muffins\n",
        "huevo = 0.2 * numero_muffins\n",
        "mantequilla = 1.5 * numero_muffins\n",
        "\n",
        "print(\"Necesitarás \", leche, \"ml de leche, \", harina, \"gr de harina, \", levadura, \"gr de levadura, \", sal, \"gr de sal, \", azucar, \"gr de azucar, \", huevo, \"huevos, y\", mantequilla, \"gr de mantequilla\")"
      ],
      "metadata": {
        "id": "-qbHfbmrKF2k",
        "outputId": "9f89e887-19d7-41a8-a2b3-3a697a2f7893",
        "colab": {
          "base_uri": "https://localhost:8080/"
        }
      },
      "execution_count": 20,
      "outputs": [
        {
          "output_type": "stream",
          "name": "stdout",
          "text": [
            "Ingresa el número de muffins que quieres hacer, tienen que ser multiplos de 5: 10\n",
            "Necesitarás  240 ml de leche,  280 gr de harina,  30 gr de levadura,  2.5 gr de sal,  100 gr de azucar,  2.0 huevos, y 15.0 gr de mantequilla\n"
          ]
        }
      ]
    },
    {
      "cell_type": "markdown",
      "source": [
        "#Decimocuarto Ejercicio\n",
        "**Nota promedio**\n",
        "\n",
        "<br> Diseñe un programa que calcule el promedio ponderado de dos notas dados sus pesos y valores.\n",
        "```\n",
        "Start\n",
        "  Declare float nota_1 = nota_1 * porcentaje_nota_1\n",
        "  Declare float nota_2 * porcentaje_nota_2\n",
        "  Declare float porcentaje_nota_1 /=100\n",
        "  Declare float porcentaje_nota_2 /=100\n",
        "  Declare float promedio = nota_1 + nota_2\n",
        "\n",
        "  Display \"Ingrese la primera nota\"\n",
        "  Input nota_1\n",
        "\n",
        "  Display \"Ingrese el valor en porcentaje de la nota 1\"\n",
        "  porcentaje_nota_1\n",
        "\n",
        "  Display \"Ingrese la segunda nota\"\n",
        "  Input nota_2\n",
        "\n",
        "  Display \"Ingrese el valor en porcentaje de la nota 2\"\n",
        "  Input porcentaje_nota_2\n",
        "\n",
        "  Display \"Su promedio es: \", promedio\n",
        "\n",
        "End\n",
        "```"
      ],
      "metadata": {
        "id": "mHheEPiHLHC0"
      }
    },
    {
      "cell_type": "code",
      "source": [
        "nota_1 = float(input(\"Ingrese la primera nota: \"))\n",
        "porcentaje_nota_1 = float(input(\"Ingrese el valor en porcentaje de la nota 1: \"))\n",
        "porcentaje_nota_1 /= 100\n",
        "nota_2 = float(input(\"Ingrese la segunda nota: \"))\n",
        "porcentaje_nota_2 = float(input(\"Ingrese el valor en porcentaje de la nota 2: \"))\n",
        "porcentaje_nota_2 /= 100\n",
        "promedio = (nota_1 * porcentaje_nota_1) + (nota_2 * porcentaje_nota_2)\n",
        "\n",
        "print(\"Su promedio es: \", promedio)"
      ],
      "metadata": {
        "id": "myqvAM4PM2Ou",
        "outputId": "ca0ea758-5fd2-4e22-c980-31a2c9706069",
        "colab": {
          "base_uri": "https://localhost:8080/"
        }
      },
      "execution_count": null,
      "outputs": [
        {
          "output_type": "stream",
          "name": "stdout",
          "text": [
            "Ingrese la primera nota: 4\n",
            "Ingrese el valor en porcentaje de la nota 1: 40\n",
            "Ingrese la segunda nota: 3\n",
            "Ingrese el valor en porcentaje de la nota 2: 60\n",
            "Su promedio es:  3.4\n"
          ]
        }
      ]
    },
    {
      "cell_type": "markdown",
      "source": [
        "#Decimoquinto\n",
        "**Cácluclo del Salario Neto Descripción**\n",
        "\n",
        "<br> Diseña un programa que calcule el salario neto de un empleado después de deducir impuestos. El programa debe solicitar al usuario su salario bruto mensual y el porcentaje de impuestos a aplicar. Luego debe calcular y mostrar el salario neto (salario bruto menos\n",
        "impuestos).\n",
        "```\n",
        "Start\n",
        "  Declare float salario_bruto\n",
        "  Declare float porcentaje_impuestos /= 100\n",
        "  Declare float salario_neto = salario_bruto - (salario_bruto * porcentaje_impuestos\n",
        "\n",
        "  Display \"Ingrese su salario bruto mensual\"\n",
        "  Input salario_bruto\n",
        "\n",
        "  Display \"Ingrese los impuestos a aplicar al salario bruto en porcentaje\"\n",
        "  Input porcentaje_impuestos\n",
        "\n",
        "  Display \"Su salario neto es: \", salario_neto\n",
        "End\n",
        "```"
      ],
      "metadata": {
        "id": "8GKp1lMUfU3O"
      }
    },
    {
      "cell_type": "code",
      "source": [
        "salario_bruto = float(input(\"Ingrese su salario bruto mensual: \"))\n",
        "porcentaje_impuestos = float(input(\"Ingrese los impuestos a aplicar al salario bruto en porcentaje: \"))\n",
        "porcentaje_impuestos /= 100\n",
        "salario_neto = salario_bruto - (salario_bruto * porcentaje_impuestos)\n",
        "\n",
        "print(\"Su salario neto es: \", salario_neto)\n"
      ],
      "metadata": {
        "id": "yg2X3-XphaV6",
        "outputId": "37e0f2d5-b014-41f4-a84d-5028fcecb386",
        "colab": {
          "base_uri": "https://localhost:8080/"
        }
      },
      "execution_count": null,
      "outputs": [
        {
          "output_type": "stream",
          "name": "stdout",
          "text": [
            "Ingrese su salario bruto mensual: 5000000\n",
            "Ingrese los impuestos a aplicar al salario bruto en porcentaje: 10\n",
            "Su salario neto es:  4500000.0\n"
          ]
        }
      ]
    },
    {
      "cell_type": "markdown",
      "source": [
        "#Decimosexto Ejercicio\n",
        "**Cálculadora de índice corporal**\n",
        "\n",
        "<br> Diseña un programa que solicite al usuario su peso en kilogramos y su altura en metros, y luego calcule y muestre su Índice de Masa Corporal (IMC) usando la fórmula:\n",
        "```\n",
        "Start\n",
        "  Declare float kilogramos\n",
        "  Declare float altura\n",
        "  Declare float imc = kilogramos / (altura ** 2)\n",
        "\n",
        "  Display \"Ingrese su peso en kilogramos\"\n",
        "  Input kilogramos\n",
        "\n",
        "  Display \"Ingrese su altura en metros\"\n",
        "  Input altura\n",
        "\n",
        "  Display \"Su índice de masa corporal con\", kilogramos, \"kilogramos de peso y\", altura, \"metros de altura, son\", imc, \"kg/m**2\"\n",
        "End\n",
        "```"
      ],
      "metadata": {
        "id": "rDOuU865LOgK"
      }
    },
    {
      "cell_type": "code",
      "source": [
        "kilogramos = float(input(\"Ingrese su peso en kilogramos: \"))\n",
        "altura = float(input(\"Ingrese su altura en metros: \"))\n",
        "imc = kilogramos / (altura ** 2)\n",
        "\n",
        "print(\"Su índice de masa corporal con\", kilogramos, \"kilogramos de peso y\", altura, \"metros de altura, son\", imc, \"kg/m**2\")"
      ],
      "metadata": {
        "id": "lMmnbRGzMxVd",
        "outputId": "509afc7e-4618-4582-d5c0-e5186522cf56",
        "colab": {
          "base_uri": "https://localhost:8080/"
        }
      },
      "execution_count": null,
      "outputs": [
        {
          "output_type": "stream",
          "name": "stdout",
          "text": [
            "Ingrese su peso en kilogramos: 50\n",
            "Ingrese su altura en metros: 1\n",
            "Su índice de masa corporal con 50.0 kilogramos de peso y 1.0 metros de altura, son 50.0 kg/m**2\n"
          ]
        }
      ]
    },
    {
      "cell_type": "markdown",
      "source": [
        "#Decimoseptimo Ejercicio\n",
        "Conversión de temperaturas (está repetido)"
      ],
      "metadata": {
        "id": "Pgi2tyzsNiOJ"
      }
    },
    {
      "cell_type": "markdown",
      "source": [
        "#Decimooctavo Ejercicio\n",
        "**Cálculo de la edad en días**\n",
        "\n",
        "<br> Diseña un programa que solicite al usuario su edad en años y luego calcule y muestre su edad en días, asumiendo que un año tiene 365 días. No se considera años bisiestos en este cálculo.\n",
        "```\n",
        "Start\n",
        "  Declare int years\n",
        "  Declare int dias = years * 365\n",
        "\n",
        "  Display \"Ingrese su edad en años\"\n",
        "  Input years\n",
        "\n",
        "  Display \"Su edad en días son:\", dias\n",
        "End\n",
        "```"
      ],
      "metadata": {
        "id": "Q7szgbXLOKUz"
      }
    },
    {
      "cell_type": "code",
      "source": [
        "years = int(input(\"Ingrese su edad en años: \"))\n",
        "dias = years * 365\n",
        "\n",
        "print(\"Su edad en días son:\", dias)"
      ],
      "metadata": {
        "id": "yGeYrqdzPJMA",
        "outputId": "2865316d-d2f0-40fc-c754-5b07c7ea8943",
        "colab": {
          "base_uri": "https://localhost:8080/"
        }
      },
      "execution_count": null,
      "outputs": [
        {
          "output_type": "stream",
          "name": "stdout",
          "text": [
            "Ingrese su edad en años: 1\n",
            "Su edad en días son: 365\n"
          ]
        }
      ]
    },
    {
      "cell_type": "markdown",
      "source": [
        "#Decimonoveno ejercicio\n",
        "**Cálculo de intereses compuestos**\n",
        "\n",
        "<br>Diseña un programa que calcule el monto final de una inversión utilizando interés compuesto. El programa debe solicitar al usuario el capital inicial, la tasa de interés anual (en porcentaje), el número de años de la inversión, y la cantidad de veces que el interés se capitaliza por año. Luego, debe calcular y mostrar el monto final utilizando la fórmula:\n",
        "<br>\n",
        "\n",
        "Monto final = capital * (1+(tasa/n))**n*tiempo\n",
        "\n",
        "<br> Donde:\n",
        "* **Capital** es la capital inicial.\n",
        "* **tasa** es la tasa de interés anual.\n",
        "* **n** es la cantidad de veces que el interés se capitaliza por añp\n",
        "* **Tiempo** es el número de años de la inversión.\n",
        "```\n",
        "Start\n",
        "  Declare float capital_inicial\n",
        "  Declare float tasa_interes\n",
        "  Declare int tiempo\n",
        "  Declare int interes\n",
        "  Declare float monto_final = capital_inicial * (1 + (tasa_interes/interes))** interes * tiempo\n",
        "\n",
        "  Display \"Ingrese su capital inicial\"\n",
        "  Input capital_inicial\n",
        "\n",
        "  Display \"Ingrese la tasa de interes anual en porcentaje\"\n",
        "  Input tasa_interes\n",
        "\n",
        "  Display \"Ingrese el numero de años que quiere tener la inversión\"\n",
        "  Input tiempo\n",
        "\n",
        "  Display \"Ingrese la cantidad de veces que el interes se capitaliza por año\"\n",
        "  Input interes\n",
        "\n",
        "  Display \"El monto final son \", monto_final\n",
        "End\n",
        "```"
      ],
      "metadata": {
        "id": "9O2eKawOPRnP"
      }
    },
    {
      "cell_type": "code",
      "source": [
        "capital_incial = float(input(\"Ingrese su capital inicial: \"))\n",
        "tasa_interes = float(input(\"Ingrese la tasa de interes anual en porcentaje: \"))\n",
        "tiempo = int(input(\"Ingrese el numero de años que quiere tener la inversión: \"))\n",
        "interes = int(input(\"Ingrese la cantidad de veces que el interes se capitaliza por año: \"))\n",
        "monto_final = capital_incial * (1 + (tasa_interes/interes))** interes * tiempo\n",
        "\n",
        "print(\"El monto final son \", monto_final)"
      ],
      "metadata": {
        "id": "BHBtYRQ2TB2n",
        "outputId": "b5d58d6c-fc0b-495f-8d3c-5d1a750d4638",
        "colab": {
          "base_uri": "https://localhost:8080/"
        }
      },
      "execution_count": null,
      "outputs": [
        {
          "output_type": "stream",
          "name": "stdout",
          "text": [
            "Ingrese su capital inicial: 5000000\n",
            "Ingrese la tasa de interes anual en porcentaje: 5\n",
            "Ingrese el numero de años que quiere tener la inversión: 2\n",
            "Ingrese la cantidad de veces que el interes se capitaliza por año: 3\n",
            "El monto final son  189629629.6296297\n"
          ]
        }
      ]
    }
  ]
}