{
  "nbformat": 4,
  "nbformat_minor": 0,
  "metadata": {
    "colab": {
      "provenance": [],
      "authorship_tag": "ABX9TyOu6WuoorcE8SVAelGUfhOh",
      "include_colab_link": true
    },
    "kernelspec": {
      "name": "python3",
      "display_name": "Python 3"
    },
    "language_info": {
      "name": "python"
    }
  },
  "cells": [
    {
      "cell_type": "markdown",
      "metadata": {
        "id": "view-in-github",
        "colab_type": "text"
      },
      "source": [
        "<a href=\"https://colab.research.google.com/github/Seb4s11/FundProg_202510/blob/main/Tarea_pseudocodigo.ipynb\" target=\"_parent\"><img src=\"https://colab.research.google.com/assets/colab-badge.svg\" alt=\"Open In Colab\"/></a>"
      ]
    },
    {
      "cell_type": "markdown",
      "source": [
        "# Tareas Pseudocódigo\n",
        "<br> **Nombres:** Sebastián Llorente Funieles\n",
        "<br> **ID:** 000574916\n",
        "<br> **Email:** sebastian.llorente@upb.edu.co"
      ],
      "metadata": {
        "id": "-mkGbusVElk-"
      }
    },
    {
      "cell_type": "markdown",
      "source": [
        "#Primer problema\n"
      ],
      "metadata": {
        "id": "jiks5NZuFBg5"
      }
    },
    {
      "cell_type": "markdown",
      "source": [
        "#Segundo problema\n",
        "Calcular potencia disipada\n",
        "\n",
        "\n",
        "```\n",
        "Start\n",
        "  Declare float resistencia\n",
        "  Declare float corriente **= 2\n",
        "  Declare float potencia disipada = resistencia * corriente\n",
        "\n",
        "  Display \"Ingrese el valor de la resistenia en ohmios\"\n",
        "  Input resistencia\n",
        "\n",
        "  Display \"Ingrese el valor de la corriente en amperios\"\n",
        "  Input corriente\n",
        "\n",
        "  Display \"La potencia disipada con\", resistencia, \"ohmios de resistencia y\", corriente, \"amperios de corriente son\", potencia_disipada, \"vatios\"\n",
        "End\n",
        "```"
      ],
      "metadata": {
        "id": "8rCSxTJmFTCj"
      }
    },
    {
      "cell_type": "code",
      "source": [
        "resistencia = float(input(\"Ingrese el valor de la resistenia en ohmios: \"))\n",
        "corriente = float(input(\"Ingrese el valor de la corriente en amperios: \"))\n",
        "potencia_disipada = resistencia * (corriente ** 2)\n",
        "\n",
        "print(\"La potencia disipada con\", resistencia, \"ohmios de resistencia y\", corriente, \"amperios de corriente, son\", potencia_disipada, \"vatios\")"
      ],
      "metadata": {
        "colab": {
          "base_uri": "https://localhost:8080/"
        },
        "id": "X7Hnrjw6GM2o",
        "outputId": "ad5cd7b3-4a15-4faa-de9d-dccd4f4911e1"
      },
      "execution_count": 4,
      "outputs": [
        {
          "output_type": "stream",
          "name": "stdout",
          "text": [
            "Ingrese el valor de la resistenia en ohmios: 50\n",
            "Ingrese el valor de la corriente en amperios: 2\n",
            "La potencia disipada con 50.0 ohmios de resistencia y 2.0 amperios de corriente son 200.0 vatios\n"
          ]
        }
      ]
    },
    {
      "cell_type": "markdown",
      "source": [
        "#Tercer Problema\n",
        "Corriente eléctrica en una resistencia\n",
        "```\n",
        "Start\n",
        "  Declare float tension\n",
        "  Declare float resistencia\n",
        "  Declare float corriente_electrica = tension / resistencia\n",
        "\n",
        "  Display \"Ingrese el vallor de la tensión en voltios\"\n",
        "  Input tension\n",
        "\n",
        "  Display \"Ingrese el valor de la resistencia en ohmios\"\n",
        "  Input resistencia\n",
        "\n",
        "  Display \"La corriente eléctrica con\", tension, \"voltios de tensión y\", resistencia, \"ohmios de resistencia\", corriente_electrica, \"amperios.\"\n",
        "End\n",
        "```"
      ],
      "metadata": {
        "id": "uWItSoP2GyaN"
      }
    },
    {
      "cell_type": "code",
      "source": [
        "tension = float(input(\"Ingrese el vallor de la tensión en voltios: \"))\n",
        "resistencia = float(input(\"Ingrese el valor de la resistencia en ohmios: \"))\n",
        "corriente_electrica = tension / resistencia\n",
        "\n",
        "print(\"La corriente eléctrica con\", tension, \"voltios de tensión y\", resistencia, \"ohmios de resistencia,4 son\", corriente_electrica, \"amperios.\")"
      ],
      "metadata": {
        "colab": {
          "base_uri": "https://localhost:8080/"
        },
        "id": "_BJCA7PcJPmF",
        "outputId": "5e2a07aa-3861-463a-994c-e6532912240e"
      },
      "execution_count": 7,
      "outputs": [
        {
          "output_type": "stream",
          "name": "stdout",
          "text": [
            "Ingrese el vallor de la tensión en voltios: 12\n",
            "Ingrese el valor de la resistencia en ohmios: 4\n",
            "La corriente eléctrica con 12.0 voltios de tensión y 4.0 ohmios de resistencia,4 son 3.0 amperios.\n"
          ]
        }
      ]
    },
    {
      "cell_type": "markdown",
      "source": [
        "#Cuarto ejercico\n",
        "Constante de tiempo\n",
        "```\n",
        "Start\n",
        "  Declare float resistencia\n",
        "  Declare float capacitancia\n",
        "  Declare float constante_tiempo = resistencia * capacitancia\n",
        "\n",
        "  Display \"Ingrese el valor de la resistencia en ohmios\"\n",
        "  Input resistencia\n",
        "\n",
        "  Display \"Ingrese el valor de la capacitancia en faradio\"\n",
        "  Input capacitancia\n",
        "\n",
        "  Display \"La constante de tiempo con\", resistencia, \"ohmios de resistencia y\", capacitancia \"faradios de capacitancia, son\", constante_tiempo, \"segundos.\"\n",
        "End\n",
        "```"
      ],
      "metadata": {
        "id": "thjz6-m8J5Bi"
      }
    },
    {
      "cell_type": "code",
      "source": [
        "resistencia = float(input(\"Ingrese el valor de la resistencia en ohmios: \"))\n",
        "capacitancia = float(input(\"Ingrese el valor de la capacitancia en faradio: \"))\n",
        "constante_tiempo = resistencia * capacitancia\n",
        "\n",
        "print(\"La constante de tiempo con\", resistencia, \"ohmios de resistencia y\", capacitancia, \"faradios de capacitancia, son\", constante_tiempo, \"segundos.\")"
      ],
      "metadata": {
        "colab": {
          "base_uri": "https://localhost:8080/"
        },
        "id": "KMqMr6-SLKqB",
        "outputId": "63f4d350-e53f-4b40-898c-c920f95782b6"
      },
      "execution_count": 8,
      "outputs": [
        {
          "output_type": "stream",
          "name": "stdout",
          "text": [
            "Ingrese el valor de la resistencia en ohmios: 100\n",
            "Ingrese el valor de la capacitancia en faradio: 0.0005\n",
            "La constante de tiempo con 100.0 ohmios de resistencia y 0.0005 faradios de capacitancia, son 0.05 segundos.\n"
          ]
        }
      ]
    },
    {
      "cell_type": "markdown",
      "source": [
        "#Quinto problema\n",
        "```\n",
        "Start\n",
        "  Declare\n",
        "End\n",
        "```"
      ],
      "metadata": {
        "id": "iW0mO4btLb3F"
      }
    }
  ]
}