{
  "nbformat": 4,
  "nbformat_minor": 0,
  "metadata": {
    "colab": {
      "provenance": [],
      "authorship_tag": "ABX9TyPyq83fm3XEwnDRB7jV2VzZ",
      "include_colab_link": true
    },
    "kernelspec": {
      "name": "python3",
      "display_name": "Python 3"
    },
    "language_info": {
      "name": "python"
    }
  },
  "cells": [
    {
      "cell_type": "markdown",
      "metadata": {
        "id": "view-in-github",
        "colab_type": "text"
      },
      "source": [
        "<a href=\"https://colab.research.google.com/github/Seb4s11/FundProg_202510/blob/main/Tarea_Pseudoc%C3%B3digo.ipynb\" target=\"_parent\"><img src=\"https://colab.research.google.com/assets/colab-badge.svg\" alt=\"Open In Colab\"/></a>"
      ]
    },
    {
      "cell_type": "markdown",
      "source": [
        "# Ejercicos Pseudocódigo\n",
        "<br> **Nombre:** Sebastián Llorente Funieles\n",
        "<br> **ID:** 000574916\n",
        "<br> **Email:** sebastian.llorente@upb.edu.co\n"
      ],
      "metadata": {
        "id": "Q3wSGk1SyCuM"
      }
    },
    {
      "cell_type": "markdown",
      "source": [
        "#Primer Ejercicio\n",
        "\n",
        "Información personal\n",
        "```\n",
        "start\n",
        "\n",
        "  Declare string name\n",
        "  Declare string adress\n",
        "  Declare int number\n",
        "  Declare string specialization\n",
        "  \n",
        "  Display \"Ingresa tu nombre\"\n",
        "  Input name\n",
        "\n",
        "  Display \"Ingresa tu dirección\"\n",
        "  Input adress\n",
        "\n",
        "  Display \"Ingresa tu número de teléfono\"\n",
        "  Input number\n",
        "\n",
        "  Display \"Ingresa tu especialización universitaria\"\n",
        "  Input specialization\n",
        "\n",
        "  \n",
        "  Display \"Tu información personal es: Te llamas \", name, \"tu dirección es \", adress, \"tu especializacón universitaria es\", specialization\n",
        "\n",
        "end\n",
        "```"
      ],
      "metadata": {
        "id": "f7sSYB3x5AvM"
      }
    },
    {
      "cell_type": "code",
      "source": [
        "name = input(\"Ingresa tu nombre: \")\n",
        "adress = input(\"Ingresa tu dirección: \")\n",
        "number = input(\"Ingresa tu número de teléfono: \")\n",
        "specialization = input(\"Ingresa tu especialización universitaria: \")\n",
        "\n",
        "print(\"Tu información personal es: Te llamas \", name, \"tu número de teléfono es \", number, \"tu dirección es \", adress, \"tu especialización universitaria es\", specialization)"
      ],
      "metadata": {
        "colab": {
          "base_uri": "https://localhost:8080/"
        },
        "id": "IheWPCzT8OfQ",
        "outputId": "e36a599d-840a-4f92-aac8-2899e510f17f"
      },
      "execution_count": 7,
      "outputs": [
        {
          "output_type": "stream",
          "name": "stdout",
          "text": [
            "Ingresa tu nombre: Sebastian\n",
            "Ingresa tu dirección: Cra\n",
            "Ingresa tu número de teléfono: 222\n",
            "Ingresa tu especialización universitaria: inf\n",
            "Tu información personal es: Te llamas  Sebastian tu número de teléfono es  222 tu dirección es  Cra tu especialización universitaria es inf\n"
          ]
        }
      ]
    },
    {
      "cell_type": "markdown",
      "source": [
        "#Segundo ejercicio\n",
        "Predicción de ventas\n",
        "```\n",
        "start\n",
        "  Declare int ventas\n",
        "  Declare real beneficio = 0.23\n",
        "  Declare real total\n",
        "\n",
        "  Display \"Ingresa la cantidad proyectada de ventas\"\n",
        "  Input ventas\n",
        "\n",
        "  Set total = ventas * beneficio\n",
        "\n",
        "  Display \"El beneficio que obtendrá será de:\", total\n",
        "\n",
        "end\n",
        "```"
      ],
      "metadata": {
        "id": "5m_zXbLD__Pm"
      }
    },
    {
      "cell_type": "code",
      "source": [
        "ventas = int(input(\"Ingresa la cantidad proyectada de ventas: \"))\n",
        "beneficio = 0.23\n",
        "total = ventas * beneficio\n",
        "\n",
        "print(\"El beneficio que obtendrá será de:\", total)"
      ],
      "metadata": {
        "colab": {
          "base_uri": "https://localhost:8080/"
        },
        "id": "-TPBxo0QATFS",
        "outputId": "5504ef97-47b2-441e-a206-4c45b7a11088"
      },
      "execution_count": 12,
      "outputs": [
        {
          "output_type": "stream",
          "name": "stdout",
          "text": [
            "Ingresa la cantidad proyectada de ventas: 4444\n",
            "El beneficio que obtendrá será de: 1022.12\n"
          ]
        }
      ]
    }
  ]
}