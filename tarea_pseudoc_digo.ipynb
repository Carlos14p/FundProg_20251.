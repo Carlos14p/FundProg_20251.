{
  "nbformat": 4,
  "nbformat_minor": 0,
  "metadata": {
    "colab": {
      "provenance": [],
      "authorship_tag": "ABX9TyMFRMbu4PNJAnJgls6BgQ+P",
      "include_colab_link": true
    },
    "kernelspec": {
      "name": "python3",
      "display_name": "Python 3"
    },
    "language_info": {
      "name": "python"
    }
  },
  "cells": [
    {
      "cell_type": "markdown",
      "metadata": {
        "id": "view-in-github",
        "colab_type": "text"
      },
      "source": [
        "<a href=\"https://colab.research.google.com/github/Seb4s11/FundProg_202510/blob/main/tarea_pseudoc_digo.ipynb\" target=\"_parent\"><img src=\"https://colab.research.google.com/assets/colab-badge.svg\" alt=\"Open In Colab\"/></a>"
      ]
    },
    {
      "cell_type": "markdown",
      "source": [
        "# Ejercicos Pseudocódigo\n",
        "<br> **Nombre:** Sebastián Llorente Funieles\n",
        "<br> **ID:** 000574916\n",
        "<br> **Email:** sebastian.llorente@upb.edu.co\n"
      ],
      "metadata": {
        "id": "Q3wSGk1SyCuM"
      }
    },
    {
      "cell_type": "markdown",
      "source": [
        "#Primer Ejercicio\n",
        "\n",
        "Información personal\n",
        "```\n",
        "start\n",
        "\n",
        "  Declare string name\n",
        "  Declare string adress\n",
        "  Declare int number\n",
        "  Declare string specialization\n",
        "  \n",
        "  Display \"Ingresa tu nombre\"\n",
        "  Input name\n",
        "\n",
        "  Display \"Ingresa tu dirección, ciudad, estado, y código postal separado por comas\"\n",
        "  Input adress\n",
        "\n",
        "  Display \"Ingresa tu número de teléfono\"\n",
        "  Input number\n",
        "\n",
        "  Display \"Ingresa tu especialización universitaria\"\n",
        "  Input specialization\n",
        "\n",
        "  \n",
        "  Display \"Tu información personal es: Te llamas \", name, \"tu dirección es \", adress, \"tu especializacón universitaria es\", specialization\n",
        "\n",
        "end\n",
        "```"
      ],
      "metadata": {
        "id": "f7sSYB3x5AvM"
      }
    },
    {
      "cell_type": "code",
      "source": [
        "name = input(\"Ingresa tu nombre: \")\n",
        "adress = input(\"ngresa tu dirección, ciudad, estado, y código postal separado por comas: \")\n",
        "number = input(\"Ingresa tu número de teléfono: \")\n",
        "specialization = input(\"Ingresa tu especialización universitaria: \")\n",
        "\n",
        "print(\"Tu información personal es: Te llamas \", name, \",tu número de teléfono es \", number, \",tu dirección es \", adress, \", tu especialización universitaria es\", specialization)"
      ],
      "metadata": {
        "colab": {
          "base_uri": "https://localhost:8080/"
        },
        "id": "IheWPCzT8OfQ",
        "outputId": "927dfff1-d063-4da7-8ba6-61228edc23af"
      },
      "execution_count": null,
      "outputs": [
        {
          "output_type": "stream",
          "name": "stdout",
          "text": [
            "Ingresa tu nombre: Sebastián\n",
            "ngresa tu dirección, ciudad, estado, y código postal separado por comas: d\n",
            "Ingresa tu número de teléfono: 3\n",
            "Ingresa tu especialización universitaria: d\n",
            "Tu información personal es: Te llamas  Sebastián ,tu número de teléfono es  3 ,tu dirección es  d , tu especialización universitaria es d\n"
          ]
        }
      ]
    },
    {
      "cell_type": "markdown",
      "source": [
        "#Segundo ejercicio\n",
        "Predicción de ventas\n",
        "```\n",
        "start\n",
        "  Declare int ventas\n",
        "  Declare real beneficio = 0.23\n",
        "  Declare real total\n",
        "\n",
        "  Display \"Ingresa la cantidad proyectada de ventas\"\n",
        "  Input ventas\n",
        "\n",
        "  Set total = ventas * beneficio\n",
        "\n",
        "  Display \"El beneficio que obtendrá será de:\", total\n",
        "\n",
        "end\n",
        "```"
      ],
      "metadata": {
        "id": "5m_zXbLD__Pm"
      }
    },
    {
      "cell_type": "code",
      "source": [
        "ventas = int(input(\"Ingresa la cantidad proyectada de ventas: \"))\n",
        "beneficio = 0.23\n",
        "total = ventas * beneficio\n",
        "\n",
        "print(\"El beneficio que obtendrá será de:\", total)"
      ],
      "metadata": {
        "colab": {
          "base_uri": "https://localhost:8080/"
        },
        "id": "-TPBxo0QATFS",
        "outputId": "7b1cd365-a0ee-40dd-bf5a-c0550385a80e"
      },
      "execution_count": null,
      "outputs": [
        {
          "output_type": "stream",
          "name": "stdout",
          "text": [
            "Ingresa la cantidad proyectada de ventas: 5\n",
            "El beneficio que obtendrá será de: 1.1500000000000001\n"
          ]
        }
      ]
    },
    {
      "cell_type": "markdown",
      "source": [
        "#Tercer Ejercicio\n",
        "\n",
        "Cálculo de Terreno\n",
        "```\n",
        "Start\n",
        "  Declare float pies\n",
        "  Declare float acres = pies / 43560\n",
        "\n",
        "  Display \"Ingresa el valor de pies cuadrados que serán pasados a acres\"\n",
        "  Input pies\n",
        "\n",
        "  Display \"Son\", acres, \"acres\"\n",
        "```"
      ],
      "metadata": {
        "id": "wGdQN46qSrio"
      }
    },
    {
      "cell_type": "code",
      "source": [
        "pies = float(input(\"Ingresa el valor de pies cuadrados que serán pasados a acres: \"))\n",
        "acres = pies / 43560\n",
        "\n",
        "print(\"Son\", acres, \"acres\")"
      ],
      "metadata": {
        "colab": {
          "base_uri": "https://localhost:8080/"
        },
        "id": "6z3Lwv8kVfxD",
        "outputId": "b49115e6-ee06-4cce-e6cb-a2ce865331d0"
      },
      "execution_count": null,
      "outputs": [
        {
          "output_type": "stream",
          "name": "stdout",
          "text": [
            "Ingresa el valor de pies cuadrados que serán pasados a acres: 5\n",
            "Son 0.0001147842056932966 acres\n"
          ]
        }
      ]
    },
    {
      "cell_type": "markdown",
      "source": [
        "#Cuarto Ejercicio\n",
        "Compra total\n",
        "```\n",
        "Start\n",
        "  Declare int articulo_1\n",
        "  Declare int articulo_2\n",
        "  Declare int articulo_3\n",
        "  Declare int articulo_4\n",
        "  Declare int articulo_5\n",
        "  Declare int suma = articulo_1 + articulo_2 + articulo_3 + articulo_4 + articulo_5\n",
        "  Declare real suma_con_impuesto = suma * 1.06\n",
        "  \n",
        "  Display \"Ingresa el precio del artículo 1\"\n",
        "  Input articulo_1\n",
        "  \n",
        "  Display \"Ingresa el precio del artículo 2\"\n",
        "  Input articulo_2\n",
        "  \n",
        "  Display \"Ingresa el precio del artículo 3\"\n",
        "  Input articulo_3\n",
        "  \n",
        "  Display \"Ingresa el precio del artículo 4\"\n",
        "  Input articulo_4\n",
        "  \n",
        "  Display \"Ingresa el precio del artículo 5\"\n",
        "  Input articulo_5\n",
        "  \n",
        "  Display \"El precio total de la venta es:\", suma_con_impuesto\n",
        "\n",
        "End\n",
        "```"
      ],
      "metadata": {
        "id": "GwtBSli1WUD_"
      }
    },
    {
      "cell_type": "code",
      "source": [
        "articulo_1 = int(input(\"Ingresa el precio del artículo 1: \"))\n",
        "articulo_2 = int(input(\"Ingresa el precio del artículo 2: \"))\n",
        "articulo_3 = int(input(\"Ingresa el precio del artículo 3: \"))\n",
        "articulo_4 = int(input(\"Ingresa el precio del artículo 4: \"))\n",
        "articulo_5 = int(input(\"Ingresa el precio del artículo 5: \"))\n",
        "suma = articulo_1 + articulo_2 + articulo_3 + articulo_4 + articulo_5\n",
        "suma_con_impuesto = suma * 1.06\n",
        "\n",
        "print(\"El precio total de la venta es:\", suma_con_impuesto)\n",
        "#"
      ],
      "metadata": {
        "colab": {
          "base_uri": "https://localhost:8080/"
        },
        "id": "SNBZ6VCCYQC-",
        "outputId": "146f630b-9939-49a8-e0c1-e87df873415e"
      },
      "execution_count": null,
      "outputs": [
        {
          "output_type": "stream",
          "name": "stdout",
          "text": [
            "Ingresa el precio del artículo 1: 5\n",
            "Ingresa el precio del artículo 2: 5\n",
            "Ingresa el precio del artículo 3: 5\n",
            "Ingresa el precio del artículo 4: 5\n",
            "Ingresa el precio del artículo 5: 5\n",
            "El precio total de la venta es: 26.5\n"
          ]
        }
      ]
    },
    {
      "cell_type": "markdown",
      "source": [
        "#Quinto Ejercicio\n",
        "Distancia recorrida\n",
        "```\n",
        "Start\n",
        "  Declare const velocidad = 60\n",
        "  Declare int distancia_5 = velocidad * 5\n",
        "  Declare int distancia_8 = velocidad * 5\n",
        "  Declare int distancia_12 = velocidad * 12\n",
        "\n",
        "  Display \"El automóvil que viaja a 60 millas por hora en 5 horas recorrerá \", distancia_5, \"millas, en 8 horas recorrerá \", distancia_8, \"millas, y en 12 horas recorrerá \", distancia_12, \"millas.\"\n",
        "\n",
        "End\n",
        "```"
      ],
      "metadata": {
        "id": "yPy3S-_eZ3F_"
      }
    },
    {
      "cell_type": "code",
      "source": [
        "velocidad = 60\n",
        "distancia_5 = velocidad * 5\n",
        "distancia_8 = velocidad * 8\n",
        "distancia_12 = velocidad * 12\n",
        "\n",
        "print(\"El automóvil que viaja a 60 millas por hora en 5 horas recorrerá \", distancia_5, \"millas, en 8 horas recorrerá \", distancia_8, \"millas, y en 12 horas recorrerá \", distancia_12, \"millas.\")"
      ],
      "metadata": {
        "colab": {
          "base_uri": "https://localhost:8080/"
        },
        "id": "827v-ruQcIbW",
        "outputId": "91b74e76-dd5b-47dd-d5ab-f535bf0d9f23"
      },
      "execution_count": null,
      "outputs": [
        {
          "output_type": "stream",
          "name": "stdout",
          "text": [
            "El automóvil que viaja a 60 millas por hora en 5 horas recorrerá  300 millas, en 8 horas recorrerá  480 millas, y en 12 horas recorrerá  720 millas.\n"
          ]
        }
      ]
    },
    {
      "cell_type": "markdown",
      "source": [
        "#Sexto ejercicio\n",
        "Impuesto de venta\n",
        "```\n",
        "start\n",
        "\n",
        "  Declare int compra\n",
        "  Declare float imp_est = 0.04 * compra\n",
        "  Declare float imp_cond = 0.02 * compra\n",
        "  Declare float venta_total = compra+ imp_est + imp_cond\n",
        "\n",
        "  Display \"Ingrese la cantidad monetaria de la compra\"\n",
        "  Input compra\n",
        "\n",
        "  Display \"Su compra es de \", compra, \",el impuesto de venta estatal es \", imp_est, \"el impuesto de venta del condado es\", imp_cond, \", y el total de su compra es:\", venta_total\n",
        "\n",
        "end\n",
        "```"
      ],
      "metadata": {
        "id": "trdXUD88eFhU"
      }
    },
    {
      "cell_type": "code",
      "source": [
        "compra = int(input(\"Ingrese la cantidad monetaria de la compra: \"))\n",
        "imp_est = 0.04 * compra\n",
        "imp_cond = 0.02 * compra\n",
        "venta_total = compra+ imp_est + imp_cond\n",
        "\n",
        "print(\"Su compra es de \", compra, \",el impuesto de venta estatal es \", imp_est, \"el impuesto de venta del condado es\", imp_cond, \", y el total de su compra es:\", venta_total)"
      ],
      "metadata": {
        "colab": {
          "base_uri": "https://localhost:8080/"
        },
        "id": "vYk5QnLCgc0r",
        "outputId": "fb75de86-6591-4be7-c728-91f62466914c"
      },
      "execution_count": null,
      "outputs": [
        {
          "output_type": "stream",
          "name": "stdout",
          "text": [
            "Ingrese la cantidad monetaria de la compra: 5000\n",
            "Su compra es de  5000 ,el impuesto de venta estatal es  200.0 el impuesto de venta del condado es 100.0 , y el total de su compra es: 5300.0\n"
          ]
        }
      ]
    },
    {
      "cell_type": "markdown",
      "source": [
        "#Séptimo Ejercicio\n",
        "Millas por galón\n",
        "```\n",
        "Start\n",
        "\n",
        "  Declare float millas\n",
        "  Declare float galon\n",
        "  Declare float mpg = millas / galon\n",
        "\n",
        "  Display \"Ingrese las millas recorridas\"\n",
        "  Input millas\n",
        "\n",
        "  Display \"Ingrese el número de galones usados\"\n",
        "  Input galon\n",
        "\n",
        "  Display \"Ha usado \", mpg, \"millas por galon\"\n",
        "\n",
        "End\n",
        "```"
      ],
      "metadata": {
        "id": "6SneaFeQkIJT"
      }
    },
    {
      "cell_type": "code",
      "source": [
        "millas = float(input(\"Ingrese las millas recorridas: \"))\n",
        "galon = float(input(\"Ingrese el número de galones usados: \"))\n",
        "mpg = millas / galon\n",
        "\n",
        "print(\"Ha usado \", mpg, \"millas por galon\")"
      ],
      "metadata": {
        "colab": {
          "base_uri": "https://localhost:8080/"
        },
        "id": "Cr7M5J1RlSqk",
        "outputId": "ad6d4a2f-dfce-4bd0-d5b1-edc984c519a2"
      },
      "execution_count": null,
      "outputs": [
        {
          "output_type": "stream",
          "name": "stdout",
          "text": [
            "Ingrese las millas recorridas: 5\n",
            "Ingrese el número de galones usados: 5\n",
            "Ha usado  1.0 millas por galon\n"
          ]
        }
      ]
    },
    {
      "cell_type": "markdown",
      "source": [
        "#Octavo Ejercicio\n",
        "Propina, impuesto y total\n",
        "```\n",
        "start\n",
        "Declare int comida\n",
        "Declare float propina = comida * 0.15\n",
        "Declare float imp_vent = comida * 0.07\n",
        "Declare float total = comida + propina + imp_vent\n",
        "\n",
        "Display \"Ingrese el valor monetario de la comida comprada\"\n",
        "Input comida\n",
        "\n",
        "Display \"Para una comida de valor \", comida, \", más una propina de \", propina, \", más el impuesto de venta de \", imp_vent, \", da un total de: \", total\n",
        "\n",
        "end\n",
        "```"
      ],
      "metadata": {
        "id": "eaksFXVCl7Ux"
      }
    },
    {
      "cell_type": "code",
      "source": [
        "comida = int(input(\"Ingrese el valor monetario de la comida comprada: \"))\n",
        "propina = comida * 0.15\n",
        "imp_vent = comida * 0.07\n",
        "total = comida + propina + imp_vent\n",
        "\n",
        "print(\"Para una comida de valor \", comida, \", más una propina de \", propina, \", más el impuesto de venta de \", imp_vent, \", da un total de: \", total)"
      ],
      "metadata": {
        "colab": {
          "base_uri": "https://localhost:8080/"
        },
        "id": "vWtvrl5GnbHR",
        "outputId": "d6510b99-2121-481f-e66d-7a0e7a43dc97"
      },
      "execution_count": null,
      "outputs": [
        {
          "output_type": "stream",
          "name": "stdout",
          "text": [
            "Ingrese el valor monetario de la comida comprada: 5000\n",
            "Para una comida de valor  5000 , más una propina de  750.0 , más el impuesto de venta de  350.00000000000006 , da un total de:  6100.0\n"
          ]
        }
      ]
    },
    {
      "cell_type": "markdown",
      "source": [
        "#Noveno Ejercicio\n",
        "Convertidor de temeratura de celsius a fahrenheit\n",
        "```\n",
        "Start\n",
        "  Declare int celsius\n",
        "  Declare real fahrenheit = (9/5) * celsius + 32\n",
        "\n",
        "  Display \"Ingrese la temperatura en celsius\"\n",
        "  Input celsius\n",
        "\n",
        "  Display celsius, \"grados celsius son \", fahrenheit \"grados fahrenheit\"\n",
        "End\n",
        "```"
      ],
      "metadata": {
        "id": "rCVzVI3_oEwW"
      }
    },
    {
      "cell_type": "code",
      "source": [
        "celsius = int(input(\"Ingrese la temperatura en celsius: \"))\n",
        "fahrenheit = (9/5) * celsius + 32\n",
        "\n",
        "print(celsius, \"grados celsius son \", fahrenheit, \"grados fahrenheit\")"
      ],
      "metadata": {
        "colab": {
          "base_uri": "https://localhost:8080/"
        },
        "id": "VYc8CQRopBQD",
        "outputId": "234d5ac6-8ea9-4e44-98f7-227e87f4acfd"
      },
      "execution_count": null,
      "outputs": [
        {
          "output_type": "stream",
          "name": "stdout",
          "text": [
            "Ingrese la temperatura en celsius: 30\n",
            "30 grados celsius son  86.0 grados fahrenheit\n"
          ]
        }
      ]
    },
    {
      "cell_type": "markdown",
      "source": [
        "#Décimo ejercicio\n",
        "Programa de transacciones de acciones\n",
        "```\n",
        "Start\n",
        "  Declare float pago_acciones = 1000 * 32.87\n",
        "  Declare float comision_corredor = pago_acciones * 0.02\n",
        "  Declare float venta_acciones = 1000 * 33.92\n",
        "  Declare float comision_segunda = venta_acciones * 0.02\n",
        "  Declare float plus_valia = venta_acciones - comision_segunda\n",
        "\n",
        "  Display \"Joe pagó \", pago_acciones, \"por las acciones. \", \"Cuando compró las acciones le pagó a su corredor una comisión de \", comision_corredor, \"y luego cuando vendió sus acciones le pagó \", comision_segunda, \". Vendió sus acciones por \", venta_acciones, \"Y de esta inversión le quedaron \", plus_valia\n",
        "\n",
        "End\n",
        "```"
      ],
      "metadata": {
        "id": "57bJEUvvpXRX"
      }
    },
    {
      "cell_type": "code",
      "source": [
        "pago_acciones = 1000 * 32.87\n",
        "comision_corredor = pago_acciones * 0.02\n",
        "venta_acciones = 1000 * 33.92\n",
        "comision_segunda = venta_acciones * 0.02\n",
        "plus_valia = venta_acciones - comision_segunda\n",
        "ganancia = plus_valia - pago_acciones\n",
        "\n",
        "display(\"Joe pagó\", pago_acciones, \"por las acciones. Cuando compró las acciones le pagó a su corredor una comisión de \", comision_corredor, \"y luego cuando vendió sus acciones le pagó \", comision_segunda, \". Vendió sus acciones por \", venta_acciones, \". Luego del pago al corredor le quedaron \", plus_valia, \"y de su inversión incial salió en una ganancia de \", ganancia)"
      ],
      "metadata": {
        "colab": {
          "base_uri": "https://localhost:8080/",
          "height": 250
        },
        "id": "FA6kWRX7shZM",
        "outputId": "9c787ecd-84a4-4ede-f788-1769189ad829"
      },
      "execution_count": null,
      "outputs": [
        {
          "output_type": "display_data",
          "data": {
            "text/plain": [
              "'Joe pagó'"
            ],
            "application/vnd.google.colaboratory.intrinsic+json": {
              "type": "string"
            }
          },
          "metadata": {}
        },
        {
          "output_type": "display_data",
          "data": {
            "text/plain": [
              "32870.0"
            ]
          },
          "metadata": {}
        },
        {
          "output_type": "display_data",
          "data": {
            "text/plain": [
              "'por las acciones. Cuando compró las acciones le pagó a su corredor una comisión de '"
            ],
            "application/vnd.google.colaboratory.intrinsic+json": {
              "type": "string"
            }
          },
          "metadata": {}
        },
        {
          "output_type": "display_data",
          "data": {
            "text/plain": [
              "657.4"
            ]
          },
          "metadata": {}
        },
        {
          "output_type": "display_data",
          "data": {
            "text/plain": [
              "'y luego cuando vendió sus acciones le pagó '"
            ],
            "application/vnd.google.colaboratory.intrinsic+json": {
              "type": "string"
            }
          },
          "metadata": {}
        },
        {
          "output_type": "display_data",
          "data": {
            "text/plain": [
              "678.4"
            ]
          },
          "metadata": {}
        },
        {
          "output_type": "display_data",
          "data": {
            "text/plain": [
              "'. Vendió sus acciones por '"
            ],
            "application/vnd.google.colaboratory.intrinsic+json": {
              "type": "string"
            }
          },
          "metadata": {}
        },
        {
          "output_type": "display_data",
          "data": {
            "text/plain": [
              "33920.0"
            ]
          },
          "metadata": {}
        },
        {
          "output_type": "display_data",
          "data": {
            "text/plain": [
              "'. Luego del pago al corredor le quedaron '"
            ],
            "application/vnd.google.colaboratory.intrinsic+json": {
              "type": "string"
            }
          },
          "metadata": {}
        },
        {
          "output_type": "display_data",
          "data": {
            "text/plain": [
              "33241.6"
            ]
          },
          "metadata": {}
        },
        {
          "output_type": "display_data",
          "data": {
            "text/plain": [
              "'y de su inversión incial salió en una ganancia de '"
            ],
            "application/vnd.google.colaboratory.intrinsic+json": {
              "type": "string"
            }
          },
          "metadata": {}
        },
        {
          "output_type": "display_data",
          "data": {
            "text/plain": [
              "371.59999999999854"
            ]
          },
          "metadata": {}
        }
      ]
    },
    {
      "cell_type": "markdown",
      "source": [
        "#Décimoprimer ejercicio\n",
        "Cálculo de la ultilidad del negocio de venta de viviendas remodeladas\n",
        "```\n",
        "Start\n",
        "  Declare float precio_compra\n",
        "  Declare float remodelacion\n",
        "  Declare float precio_venta\n",
        "  Declare float porcentaje_comision\n",
        "  Declare float utilidad = (precio_venta - precio_compra - remodelacion) + ((porcentaje_comision / 100) * precio_venta)\n",
        "  \n",
        "  Display \"Ingrese el precio de comprade la vivienda\"\n",
        "  Input precio_compra\n",
        "\n",
        "  Display \"Ingrese el costo de la remodelación\"\n",
        "  Input remodelacion\n",
        "\n",
        "  Display \"Ingrese el precio de venta de la vivienda\"\n",
        "  Input precio_venta\n",
        "\n",
        "  Display \"Ingrese el porcentaje de comsión\"\n",
        "  Input porcentaje_comision\n",
        "\n",
        "  Display \"La utilidad fue de \", utilidad\n",
        "End\n",
        "```"
      ],
      "metadata": {
        "id": "wSGbJdQhvDLA"
      }
    },
    {
      "cell_type": "code",
      "source": [
        "precio_compra = float(input(\"Ingrese el precio de compra de la vivienda: \"))\n",
        "remodelacion = float(input(\"Ingrese el costo de la remodelación: \"))\n",
        "precio_venta = float(input(\"Ingrese el precio de venta de la vivienda: \"))\n",
        "porcentaje_comision = float(input(\"Ingrese el porcentaje de comsión: \"))\n",
        "utilidad = (precio_venta - precio_compra - remodelacion) + ((porcentaje_comision / 100) * precio_venta)\n",
        "\n",
        "print(\"La utilidad fue de \", utilidad)"
      ],
      "metadata": {
        "colab": {
          "base_uri": "https://localhost:8080/"
        },
        "id": "dkqEsgDPx9tX",
        "outputId": "728446b3-a98f-4424-e32b-d7220be69e7a"
      },
      "execution_count": null,
      "outputs": [
        {
          "output_type": "stream",
          "name": "stdout",
          "text": [
            "Ingrese el precio de compra de la vivienda: 5000000\n",
            "Ingrese el costo de la remodelación: 1000000\n",
            "Ingrese el precio de venta de la vivienda: 8000000\n",
            "Ingrese el porcentaje de comsión: 5\n",
            "La utilidad fue de  2400000.0\n"
          ]
        }
      ]
    },
    {
      "cell_type": "markdown",
      "source": [
        "#Décimosegundo Ejercicio\n",
        "Área del círculo\n",
        "```\n",
        "Start\n",
        "\n",
        "  Declare float radio\n",
        "  Declare float area_circulo = math.pi * (radio**2)\n",
        "\n",
        "  Display \"Ingresa el radio del círculo\"\n",
        "  Input radio\n",
        "\n",
        "  Display \"El área del círculo es: \", area_circulo\n",
        "\n",
        "End\n",
        "```"
      ],
      "metadata": {
        "id": "FRm1xo_OFWKu"
      }
    },
    {
      "cell_type": "code",
      "source": [
        "import math\n",
        "\n",
        "radio = float(input(\"Ingresa el radio del círculo: \"))\n",
        "area_circulo = math.pi * radio**2\n",
        "\n",
        "print(\"El área del círculo es: \", area_circulo)"
      ],
      "metadata": {
        "id": "a7Y70HcaGY-c",
        "outputId": "ea2466f3-a93c-4fbb-da23-a034e2b1625a",
        "colab": {
          "base_uri": "https://localhost:8080/"
        }
      },
      "execution_count": 3,
      "outputs": [
        {
          "output_type": "stream",
          "name": "stdout",
          "text": [
            "Ingresa el radio del círculo: 2\n",
            "El área del círculo es:  12.566370614359172\n"
          ]
        }
      ]
    },
    {
      "cell_type": "markdown",
      "source": [
        "#Decimotercer Ejercicio\n",
        "Muffins\n",
        "```\n",
        "Start\n",
        "  Declare int numero_muffins\n",
        "  Declare int leche = 24 * numero_muffins\n",
        "  Declare int harina = 28 * numero_muffins\n",
        "  Declare int levadura = 3 * numero_muffins\n",
        "  Declare float sal = 0.25 * numero_muffins\n",
        "  Declare int azucar = 10 * numero_muffins\n",
        "  Declare float huevo = 0.2 * numero_muffins\n",
        "  Declare float mantequilla = 1.5 * numero_muffins\n",
        "\n",
        "  Display \"Ingresa el número de muffins que quieres hacer\"\n",
        "  Input numero_muffins\n",
        "\n",
        "  Display \"Necesitarás \", leche, \"ml de leche, \", harina, \"gr de harina, \", levadura, \"gr de levadura, \", sal, \"gr de sal, \", azucar, \"gr de azucar, \", huevos, \"huevos, y\", mantequilla, \"gr de mantequilla.\"\n",
        "\n",
        "End\n",
        "```"
      ],
      "metadata": {
        "id": "CyajGGRZG9Pg"
      }
    },
    {
      "cell_type": "code",
      "source": [
        "numero_muffins = int(input(\"Ingresa el número de muffins que quieres hacer: \"))\n",
        "leche = 24 * numero_muffins\n",
        "harina = 28 * numero_muffins\n",
        "levadura = 3 * numero_muffins\n",
        "sal = 0.25 * numero_muffins\n",
        "azucar = 10 * numero_muffins\n",
        "huevo = 0.2 * numero_muffins\n",
        "mantequilla = 1.5 * numero_muffins\n",
        "\n",
        "print(\"Necesitarás \", leche, \"ml de leche, \", harina, \"gr de harina, \", levadura, \"gr de levadura, \", sal, \"gr de sal, \", azucar, \"gr de azucar, \", huevo, \"huevos, y\", mantequilla, \"gr de mantequilla\")"
      ],
      "metadata": {
        "id": "-qbHfbmrKF2k",
        "outputId": "c4d94edb-b3d0-4c10-eb2e-f7ef5374a10e",
        "colab": {
          "base_uri": "https://localhost:8080/"
        }
      },
      "execution_count": 7,
      "outputs": [
        {
          "output_type": "stream",
          "name": "stdout",
          "text": [
            "Ingresa el número de muffins que quieres hacer: 5\n",
            "Necesitarás  120 ml de leche,  140 gr de harina,  15 gr de levadura,  1.25 gr de sal,  50 gr de azucar,  1.0 huevos, y 7.5 gr de mantequilla\n"
          ]
        }
      ]
    },
    {
      "cell_type": "markdown",
      "source": [
        "#Decimocuarto Ejercicio\n",
        "Nota promedio\n",
        "```\n",
        "Start\n",
        "  Declare float nota_1 = nota_1 * porcentaje_nota_1\n",
        "  Declare float nota_2 * porcentaje_nota_2\n",
        "  Declare float porcentaje_nota_1 /=100\n",
        "  Declare float porcentaje_nota_2 /=100\n",
        "  Declare float promedio = nota_1 + nota_2\n",
        "\n",
        "  Display \"Ingrese la primera nota\"\n",
        "  Input nota_1\n",
        "\n",
        "  Display \"Ingrese el valor en porcentaje de la nota 1\"\n",
        "  porcentaje_nota_1\n",
        "\n",
        "  Display \"Ingrese la segunda nota\"\n",
        "  Input nota_2\n",
        "\n",
        "  Display \"Ingrese el valor en porcentaje de la nota 2\"\n",
        "  Input porcentaje_nota_2\n",
        "\n",
        "  Display \"Su promedio es: \", promedio\n",
        "\n",
        "End\n",
        "```"
      ],
      "metadata": {
        "id": "mHheEPiHLHC0"
      }
    },
    {
      "cell_type": "code",
      "source": [
        "nota_1 = float(input(\"Ingrese la primera nota: \"))\n",
        "porcentaje_nota_1 = float(input(\"Ingrese el valor en porcentaje de la nota 1: \"))\n",
        "porcentaje_nota_1 /= 100\n",
        "nota_2 = float(input(\"Ingrese la segunda nota: \"))\n",
        "porcentaje_nota_2 = float(input(\"Ingrese el valor en porcentaje de la nota 2: \"))\n",
        "porcentaje_nota_2 /= 100\n",
        "promedio = (nota_1 * porcentaje_nota_1) + (nota_2 * porcentaje_nota_2)\n",
        "\n",
        "print(\"Su promedio es: \", promedio)"
      ],
      "metadata": {
        "id": "myqvAM4PM2Ou",
        "outputId": "ca0ea758-5fd2-4e22-c980-31a2c9706069",
        "colab": {
          "base_uri": "https://localhost:8080/"
        }
      },
      "execution_count": 8,
      "outputs": [
        {
          "output_type": "stream",
          "name": "stdout",
          "text": [
            "Ingrese la primera nota: 4\n",
            "Ingrese el valor en porcentaje de la nota 1: 40\n",
            "Ingrese la segunda nota: 3\n",
            "Ingrese el valor en porcentaje de la nota 2: 60\n",
            "Su promedio es:  3.4\n"
          ]
        }
      ]
    }
  ]
}