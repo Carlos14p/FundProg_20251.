{
  "nbformat": 4,
  "nbformat_minor": 0,
  "metadata": {
    "colab": {
      "provenance": [],
      "authorship_tag": "ABX9TyNR5XH36wVlcWBAhvvnhipt",
      "include_colab_link": true
    },
    "kernelspec": {
      "name": "python3",
      "display_name": "Python 3"
    },
    "language_info": {
      "name": "python"
    }
  },
  "cells": [
    {
      "cell_type": "markdown",
      "metadata": {
        "id": "view-in-github",
        "colab_type": "text"
      },
      "source": [
        "<a href=\"https://colab.research.google.com/github/Carlos14p/FundProg_20251./blob/main/introduccion_python.ipynb\" target=\"_parent\"><img src=\"https://colab.research.google.com/assets/colab-badge.svg\" alt=\"Open In Colab\"/></a>"
      ]
    },
    {
      "cell_type": "markdown",
      "source": [
        "primer ejercicio\n"
      ],
      "metadata": {
        "id": "MSWh3KcgIP2i"
      }
    },
    {
      "cell_type": "code",
      "source": [
        "name = input(\"Enter your name: \")\n",
        "age = int(input(\"Enter your age: \"))\n",
        "place_of_origin = input(\"Enter your place of origin: \")\n",
        "hobbie = input(\"Enter your favorite hobbie: \")\n",
        "occupation = input(\"Enter your occupation: \")\n",
        "print(\"The user's name is \" + name + \", is \" + str(age) + \" years old, comes from \" + place_of_origin + \". The User's hobbie is \" + hobbie + \" and is a \" + occupation + \".\")\n",
        "\n"
      ],
      "metadata": {
        "colab": {
          "base_uri": "https://localhost:8080/"
        },
        "id": "5-dLkfJ8IRO_",
        "outputId": "f4d73f2f-debf-4a9d-864a-26d4b2653b7d"
      },
      "execution_count": 2,
      "outputs": [
        {
          "output_type": "stream",
          "name": "stdout",
          "text": [
            "Enter your name: Carlos Lazaro\n",
            "Enter your age: 16\n",
            "Enter your place of origin: sincelejo\n",
            "Enter your favorite hobbie: tocar acordeon\n",
            "Enter your occupation: estudiante\n",
            "The user's name is Carlos Lazaro, is 16 years old, comes from sincelejo. The User's hobbie is tocar acordeon and is a estudiante.\n"
          ]
        }
      ]
    },
    {
      "cell_type": "code",
      "execution_count": 1,
      "metadata": {
        "id": "113SzNSYILB4"
      },
      "outputs": [],
      "source": []
    },
    {
      "cell_type": "markdown",
      "source": [
        "segundo ejercicio"
      ],
      "metadata": {
        "id": "hkkVmRMfJ8Nd"
      }
    },
    {
      "cell_type": "code",
      "source": [
        "import math\n",
        "\n",
        "#Selección de figura\n",
        "print(\"Seleccione una figura:\")\n",
        "print(\"1. Ortoedro\")\n",
        "print(\"2. Cilindro\")\n",
        "print(\"3. Esfera\")\n",
        "\n",
        "opcion = input(\"Ingrese el número de la figura: \")\n",
        "\n",
        "#Con ortoedro\n",
        "if opcion == \"1\":\n",
        "    largo = float(input(\"Ingrese el largo: \"))\n",
        "    ancho = float(input(\"Ingrese el ancho: \"))\n",
        "    alto = float(input(\"Ingrese el alto: \"))\n",
        "\n",
        "    area = 2 * (largo * ancho + ancho * alto + largo * alto)\n",
        "    volumen = largo * ancho * alto\n",
        "\n",
        "#Con cilindro\n",
        "elif opcion == \"2\":\n",
        "    radio = float(input(\"Ingrese el radio: \"))\n",
        "    altura = float(input(\"Ingrese la altura: \"))\n",
        "\n",
        "    area = 2 * math.pi * radio * (radio + altura)\n",
        "    volumen = math.pi * radio**2 * altura\n",
        "\n",
        "#Con esfera\n",
        "elif opcion == \"3\":\n",
        "    radio = float(input(\"Ingrese el radio: \"))\n",
        "\n",
        "    area = 4 * math.pi * radio**2\n",
        "    volumen = (4/3) * math.pi * radio**3\n",
        "\n",
        "else:\n",
        "    print(\"Opción no válida\")\n",
        "    area = volumen = None\n",
        "\n",
        "if area is not None and volumen is not None:\n",
        "    print(\"\\nÁrea:\", area)\n",
        "    print(\"Volumen:\", volumen)"
      ],
      "metadata": {
        "colab": {
          "base_uri": "https://localhost:8080/"
        },
        "id": "DTlM9Se4KGQg",
        "outputId": "07eb7d2a-19b3-4fea-e948-47808197db4b"
      },
      "execution_count": null,
      "outputs": [
        {
          "output_type": "stream",
          "name": "stdout",
          "text": [
            "Seleccione una figura:\n",
            "1. Ortoedro\n",
            "2. Cilindro\n",
            "3. Esfera\n",
            "Ingrese el número de la figura: 2\n",
            "Ingrese el radio: 5\n",
            "Ingrese la altura: 10\n",
            "\n",
            "Área: 471.23889803846896\n",
            "Volumen: 785.3981633974483\n"
          ]
        }
      ]
    }
  ]
}