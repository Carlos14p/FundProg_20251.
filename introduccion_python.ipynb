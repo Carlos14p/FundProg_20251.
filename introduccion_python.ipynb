{
  "nbformat": 4,
  "nbformat_minor": 0,
  "metadata": {
    "colab": {
      "provenance": [],
      "authorship_tag": "ABX9TyPx8IcSRm5RRiONfDY9eP8L",
      "include_colab_link": true
    },
    "kernelspec": {
      "name": "python3",
      "display_name": "Python 3"
    },
    "language_info": {
      "name": "python"
    }
  },
  "cells": [
    {
      "cell_type": "markdown",
      "metadata": {
        "id": "view-in-github",
        "colab_type": "text"
      },
      "source": [
        "<a href=\"https://colab.research.google.com/github/Seb4s11/FundProg_202510/blob/main/introduccion_python.ipynb\" target=\"_parent\"><img src=\"https://colab.research.google.com/assets/colab-badge.svg\" alt=\"Open In Colab\"/></a>"
      ]
    },
    {
      "cell_type": "markdown",
      "source": [
        "#Ejercicios\n",
        "**Sebastián Benítez** `000545006` sebastian.benitez@upb.edu.co\n",
        "<br> **Sebastián Llorente** `000574916` sebastian.llorente@ypb.edu.co\n",
        "<br>**Juan Sebastián Miranda** `000548579` juan.mirandaa@upb.edu.co\n"
      ],
      "metadata": {
        "id": "7PsblHqkg7bF"
      }
    },
    {
      "cell_type": "markdown",
      "source": [
        "#Primer ejercicio"
      ],
      "metadata": {
        "id": "rLTOl3BAkNMQ"
      }
    },
    {
      "cell_type": "code",
      "source": [
        "name = input(\"Enter your name: \")\n",
        "age = input(\"Enter your age: \")\n",
        "place_of_origin = input(\"Enter your place of origin: \")\n",
        "hobbie = input(\"Enter your favorite hobbie: \")\n",
        "occupation = input(\"Enter your occupation: \")\n",
        "print(\"The user's name is \" + name + \", is \" + str(age) + \" years old, comes from \" + place_of_origin + \". The User's hobbie is \" + hobbie + \" and is a \" + occupation + \".\")"
      ],
      "metadata": {
        "colab": {
          "base_uri": "https://localhost:8080/"
        },
        "id": "zfeeC-RUhDqc",
        "outputId": "bbd00463-21ba-4deb-e773-831fb6bcf79f"
      },
      "execution_count": 3,
      "outputs": [
        {
          "output_type": "stream",
          "name": "stdout",
          "text": [
            "Enter your name: Sebastián\n",
            "Enter your age: 17\n",
            "Enter your place of origin: Montería\n",
            "Enter your favorite hobbie: Play soccer\n",
            "Enter your occupation: student\n",
            "The user's name is Sebastián, is 17 years old, comes from Montería. The User's hobbie is Play soccer and is a student.\n"
          ]
        }
      ]
    },
    {
      "cell_type": "markdown",
      "source": [
        "#Segundo ejercicio"
      ],
      "metadata": {
        "id": "yKNQ4hwHkPeZ"
      }
    },
    {
      "cell_type": "code",
      "source": [
        "import math\n",
        "\n",
        "#Selección de figura\n",
        "print(\"Seleccione una figura:\")\n",
        "print(\"1. Ortoedro\")\n",
        "print(\"2. Cilindro\")\n",
        "print(\"3. Esfera\")\n",
        "\n",
        "opcion = input(\"Ingrese el número de la figura: \")\n",
        "\n",
        "#Con ortoedro\n",
        "if opcion == \"1\":\n",
        "    largo = float(input(\"Ingrese el largo: \"))\n",
        "    ancho = float(input(\"Ingrese el ancho: \"))\n",
        "    alto = float(input(\"Ingrese el alto: \"))\n",
        "\n",
        "    area = 2 * (largo * ancho + ancho * alto + largo * alto)\n",
        "    volumen = largo * ancho * alto\n",
        "\n",
        "#Con cilindro\n",
        "elif opcion == \"2\":\n",
        "    radio = float(input(\"Ingrese el radio: \"))\n",
        "    altura = float(input(\"Ingrese la altura: \"))\n",
        "\n",
        "    area = 2 * math.pi * radio * (radio + altura)\n",
        "    volumen = math.pi * radio**2 * altura\n",
        "\n",
        "#Con esfera\n",
        "elif opcion == \"3\":\n",
        "    radio = float(input(\"Ingrese el radio: \"))\n",
        "\n",
        "    area = 4 * math.pi * radio**2\n",
        "    volumen = (4/3) * math.pi * radio**3\n",
        "\n",
        "else:\n",
        "    print(\"Opción no válida\")\n",
        "    area = volumen = None\n",
        "\n",
        "if area is not None and volumen is not None:\n",
        "    print(\"\\nÁrea:\", area)\n",
        "    print(\"Volumen:\", volumen)"
      ],
      "metadata": {
        "colab": {
          "base_uri": "https://localhost:8080/"
        },
        "id": "e7jWdPUikb6d",
        "outputId": "3d96861d-4582-488f-fdf2-b991282ca712"
      },
      "execution_count": null,
      "outputs": [
        {
          "output_type": "stream",
          "name": "stdout",
          "text": [
            "Seleccione una figura:\n",
            "1. Ortoedro\n",
            "2. Cilindro\n",
            "3. Esfera\n",
            "Ingrese el número de la figura: 2\n",
            "Ingrese el radio: 5\n",
            "Ingrese la altura: 10\n",
            "\n",
            "Área: 471.23889803846896\n",
            "Volumen: 785.3981633974483\n"
          ]
        }
      ]
    }
  ]
}